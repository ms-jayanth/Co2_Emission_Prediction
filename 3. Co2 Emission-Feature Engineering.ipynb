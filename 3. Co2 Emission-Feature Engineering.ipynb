{
 "cells": [
  {
   "cell_type": "markdown",
   "id": "265cd350",
   "metadata": {},
   "source": [
    "# CO2 EMISSION"
   ]
  },
  {
   "cell_type": "markdown",
   "id": "eb662ab4",
   "metadata": {},
   "source": [
    "## Feature Engeneering"
   ]
  },
  {
   "cell_type": "markdown",
   "id": "6ab63995",
   "metadata": {},
   "source": [
    "## 1. Import Necessary Libraries"
   ]
  },
  {
   "cell_type": "code",
   "execution_count": 1,
   "id": "842244ab",
   "metadata": {},
   "outputs": [],
   "source": [
    "import pandas as pd\n",
    "\n",
    "import matplotlib.pyplot as plt\n",
    "import seaborn as sns\n",
    "\n",
    "import warnings\n",
    "warnings.filterwarnings('ignore')\n",
    "\n",
    "from sklearn.preprocessing import OrdinalEncoder\n",
    "from sklearn.feature_selection import SelectKBest, f_regression\n",
    "from sklearn.ensemble import ExtraTreesRegressor"
   ]
  },
  {
   "cell_type": "markdown",
   "id": "780554ee",
   "metadata": {},
   "source": [
    "## 2. Load Data"
   ]
  },
  {
   "cell_type": "code",
   "execution_count": 2,
   "id": "043e6527",
   "metadata": {},
   "outputs": [
    {
     "data": {
      "text/html": [
       "<div>\n",
       "<style scoped>\n",
       "    .dataframe tbody tr th:only-of-type {\n",
       "        vertical-align: middle;\n",
       "    }\n",
       "\n",
       "    .dataframe tbody tr th {\n",
       "        vertical-align: top;\n",
       "    }\n",
       "\n",
       "    .dataframe thead th {\n",
       "        text-align: right;\n",
       "    }\n",
       "</style>\n",
       "<table border=\"1\" class=\"dataframe\">\n",
       "  <thead>\n",
       "    <tr style=\"text-align: right;\">\n",
       "      <th></th>\n",
       "      <th>make</th>\n",
       "      <th>model</th>\n",
       "      <th>vehicle_class</th>\n",
       "      <th>engine_size</th>\n",
       "      <th>cylinders</th>\n",
       "      <th>transmission</th>\n",
       "      <th>fuel_type</th>\n",
       "      <th>fuel_consumption_city</th>\n",
       "      <th>fuel_consumption_hwy</th>\n",
       "      <th>fuel_consumption_comb(l/100km)</th>\n",
       "      <th>fuel_consumption_comb(mpg)</th>\n",
       "      <th>co2_emissions</th>\n",
       "    </tr>\n",
       "  </thead>\n",
       "  <tbody>\n",
       "    <tr>\n",
       "      <th>0</th>\n",
       "      <td>acura</td>\n",
       "      <td>ilx</td>\n",
       "      <td>compact</td>\n",
       "      <td>2.0</td>\n",
       "      <td>4</td>\n",
       "      <td>as</td>\n",
       "      <td>z</td>\n",
       "      <td>9.9</td>\n",
       "      <td>6.7</td>\n",
       "      <td>8.5</td>\n",
       "      <td>33.0</td>\n",
       "      <td>196.0</td>\n",
       "    </tr>\n",
       "    <tr>\n",
       "      <th>1</th>\n",
       "      <td>acura</td>\n",
       "      <td>ilx</td>\n",
       "      <td>compact</td>\n",
       "      <td>2.4</td>\n",
       "      <td>4</td>\n",
       "      <td>m</td>\n",
       "      <td>z</td>\n",
       "      <td>11.2</td>\n",
       "      <td>7.7</td>\n",
       "      <td>9.6</td>\n",
       "      <td>29.0</td>\n",
       "      <td>221.0</td>\n",
       "    </tr>\n",
       "    <tr>\n",
       "      <th>2</th>\n",
       "      <td>acura</td>\n",
       "      <td>ilx hybrid</td>\n",
       "      <td>compact</td>\n",
       "      <td>1.5</td>\n",
       "      <td>4</td>\n",
       "      <td>av</td>\n",
       "      <td>z</td>\n",
       "      <td>6.0</td>\n",
       "      <td>5.8</td>\n",
       "      <td>5.9</td>\n",
       "      <td>47.0</td>\n",
       "      <td>136.0</td>\n",
       "    </tr>\n",
       "    <tr>\n",
       "      <th>3</th>\n",
       "      <td>acura</td>\n",
       "      <td>mdx 4wd</td>\n",
       "      <td>suv - small</td>\n",
       "      <td>3.5</td>\n",
       "      <td>6</td>\n",
       "      <td>as</td>\n",
       "      <td>z</td>\n",
       "      <td>12.7</td>\n",
       "      <td>9.1</td>\n",
       "      <td>11.1</td>\n",
       "      <td>25.0</td>\n",
       "      <td>255.0</td>\n",
       "    </tr>\n",
       "    <tr>\n",
       "      <th>4</th>\n",
       "      <td>acura</td>\n",
       "      <td>rdx awd</td>\n",
       "      <td>suv - small</td>\n",
       "      <td>3.5</td>\n",
       "      <td>6</td>\n",
       "      <td>as</td>\n",
       "      <td>z</td>\n",
       "      <td>12.1</td>\n",
       "      <td>8.7</td>\n",
       "      <td>10.6</td>\n",
       "      <td>27.0</td>\n",
       "      <td>244.0</td>\n",
       "    </tr>\n",
       "    <tr>\n",
       "      <th>5</th>\n",
       "      <td>acura</td>\n",
       "      <td>rlx</td>\n",
       "      <td>mid-size</td>\n",
       "      <td>3.5</td>\n",
       "      <td>6</td>\n",
       "      <td>as</td>\n",
       "      <td>z</td>\n",
       "      <td>11.9</td>\n",
       "      <td>7.7</td>\n",
       "      <td>10.0</td>\n",
       "      <td>28.0</td>\n",
       "      <td>230.0</td>\n",
       "    </tr>\n",
       "    <tr>\n",
       "      <th>6</th>\n",
       "      <td>acura</td>\n",
       "      <td>tl</td>\n",
       "      <td>mid-size</td>\n",
       "      <td>3.5</td>\n",
       "      <td>6</td>\n",
       "      <td>as</td>\n",
       "      <td>z</td>\n",
       "      <td>11.8</td>\n",
       "      <td>8.1</td>\n",
       "      <td>10.1</td>\n",
       "      <td>28.0</td>\n",
       "      <td>232.0</td>\n",
       "    </tr>\n",
       "    <tr>\n",
       "      <th>7</th>\n",
       "      <td>acura</td>\n",
       "      <td>tl awd</td>\n",
       "      <td>mid-size</td>\n",
       "      <td>3.7</td>\n",
       "      <td>6</td>\n",
       "      <td>as</td>\n",
       "      <td>z</td>\n",
       "      <td>12.8</td>\n",
       "      <td>9.0</td>\n",
       "      <td>11.1</td>\n",
       "      <td>25.0</td>\n",
       "      <td>255.0</td>\n",
       "    </tr>\n",
       "    <tr>\n",
       "      <th>8</th>\n",
       "      <td>acura</td>\n",
       "      <td>tl awd</td>\n",
       "      <td>mid-size</td>\n",
       "      <td>3.7</td>\n",
       "      <td>6</td>\n",
       "      <td>m</td>\n",
       "      <td>z</td>\n",
       "      <td>13.4</td>\n",
       "      <td>9.5</td>\n",
       "      <td>11.6</td>\n",
       "      <td>24.0</td>\n",
       "      <td>267.0</td>\n",
       "    </tr>\n",
       "    <tr>\n",
       "      <th>9</th>\n",
       "      <td>acura</td>\n",
       "      <td>tsx</td>\n",
       "      <td>compact</td>\n",
       "      <td>2.4</td>\n",
       "      <td>4</td>\n",
       "      <td>as</td>\n",
       "      <td>z</td>\n",
       "      <td>10.6</td>\n",
       "      <td>7.5</td>\n",
       "      <td>9.2</td>\n",
       "      <td>31.0</td>\n",
       "      <td>212.0</td>\n",
       "    </tr>\n",
       "    <tr>\n",
       "      <th>10</th>\n",
       "      <td>acura</td>\n",
       "      <td>tsx</td>\n",
       "      <td>compact</td>\n",
       "      <td>2.4</td>\n",
       "      <td>4</td>\n",
       "      <td>m</td>\n",
       "      <td>z</td>\n",
       "      <td>11.2</td>\n",
       "      <td>8.1</td>\n",
       "      <td>9.8</td>\n",
       "      <td>29.0</td>\n",
       "      <td>225.0</td>\n",
       "    </tr>\n",
       "  </tbody>\n",
       "</table>\n",
       "</div>"
      ],
      "text/plain": [
       "     make       model vehicle_class  engine_size  cylinders transmission  \\\n",
       "0   acura         ilx       compact          2.0          4           as   \n",
       "1   acura         ilx       compact          2.4          4            m   \n",
       "2   acura  ilx hybrid       compact          1.5          4           av   \n",
       "3   acura     mdx 4wd   suv - small          3.5          6           as   \n",
       "4   acura     rdx awd   suv - small          3.5          6           as   \n",
       "5   acura         rlx      mid-size          3.5          6           as   \n",
       "6   acura          tl      mid-size          3.5          6           as   \n",
       "7   acura      tl awd      mid-size          3.7          6           as   \n",
       "8   acura      tl awd      mid-size          3.7          6            m   \n",
       "9   acura         tsx       compact          2.4          4           as   \n",
       "10  acura         tsx       compact          2.4          4            m   \n",
       "\n",
       "   fuel_type  fuel_consumption_city  fuel_consumption_hwy  \\\n",
       "0          z                    9.9                   6.7   \n",
       "1          z                   11.2                   7.7   \n",
       "2          z                    6.0                   5.8   \n",
       "3          z                   12.7                   9.1   \n",
       "4          z                   12.1                   8.7   \n",
       "5          z                   11.9                   7.7   \n",
       "6          z                   11.8                   8.1   \n",
       "7          z                   12.8                   9.0   \n",
       "8          z                   13.4                   9.5   \n",
       "9          z                   10.6                   7.5   \n",
       "10         z                   11.2                   8.1   \n",
       "\n",
       "    fuel_consumption_comb(l/100km)  fuel_consumption_comb(mpg)  co2_emissions  \n",
       "0                              8.5                        33.0          196.0  \n",
       "1                              9.6                        29.0          221.0  \n",
       "2                              5.9                        47.0          136.0  \n",
       "3                             11.1                        25.0          255.0  \n",
       "4                             10.6                        27.0          244.0  \n",
       "5                             10.0                        28.0          230.0  \n",
       "6                             10.1                        28.0          232.0  \n",
       "7                             11.1                        25.0          255.0  \n",
       "8                             11.6                        24.0          267.0  \n",
       "9                              9.2                        31.0          212.0  \n",
       "10                             9.8                        29.0          225.0  "
      ]
     },
     "execution_count": 2,
     "metadata": {},
     "output_type": "execute_result"
    }
   ],
   "source": [
    "emission_data=pd.read_csv('Emission_dataset.csv')\n",
    "emission_data.head(11)"
   ]
  },
  {
   "cell_type": "code",
   "execution_count": 3,
   "id": "f2ebc57c",
   "metadata": {},
   "outputs": [],
   "source": [
    "emission_data_copy=emission_data.copy()"
   ]
  },
  {
   "cell_type": "markdown",
   "id": "dc2581e4",
   "metadata": {},
   "source": [
    "## 3. Data Pre-Processing"
   ]
  },
  {
   "cell_type": "code",
   "execution_count": 4,
   "id": "7f601d7c",
   "metadata": {},
   "outputs": [
    {
     "data": {
      "text/html": [
       "<div>\n",
       "<style scoped>\n",
       "    .dataframe tbody tr th:only-of-type {\n",
       "        vertical-align: middle;\n",
       "    }\n",
       "\n",
       "    .dataframe tbody tr th {\n",
       "        vertical-align: top;\n",
       "    }\n",
       "\n",
       "    .dataframe thead th {\n",
       "        text-align: right;\n",
       "    }\n",
       "</style>\n",
       "<table border=\"1\" class=\"dataframe\">\n",
       "  <thead>\n",
       "    <tr style=\"text-align: right;\">\n",
       "      <th></th>\n",
       "      <th>vehicle_class</th>\n",
       "      <th>engine_size</th>\n",
       "      <th>cylinders</th>\n",
       "      <th>transmission</th>\n",
       "      <th>fuel_type</th>\n",
       "      <th>fuel_consumption_city</th>\n",
       "      <th>fuel_consumption_hwy</th>\n",
       "      <th>fuel_consumption_comb(l/100km)</th>\n",
       "      <th>fuel_consumption_comb(mpg)</th>\n",
       "      <th>co2_emissions</th>\n",
       "    </tr>\n",
       "  </thead>\n",
       "  <tbody>\n",
       "    <tr>\n",
       "      <th>0</th>\n",
       "      <td>compact</td>\n",
       "      <td>2.0</td>\n",
       "      <td>4</td>\n",
       "      <td>as</td>\n",
       "      <td>z</td>\n",
       "      <td>9.9</td>\n",
       "      <td>6.7</td>\n",
       "      <td>8.5</td>\n",
       "      <td>33.0</td>\n",
       "      <td>196.0</td>\n",
       "    </tr>\n",
       "    <tr>\n",
       "      <th>1</th>\n",
       "      <td>compact</td>\n",
       "      <td>2.4</td>\n",
       "      <td>4</td>\n",
       "      <td>m</td>\n",
       "      <td>z</td>\n",
       "      <td>11.2</td>\n",
       "      <td>7.7</td>\n",
       "      <td>9.6</td>\n",
       "      <td>29.0</td>\n",
       "      <td>221.0</td>\n",
       "    </tr>\n",
       "    <tr>\n",
       "      <th>2</th>\n",
       "      <td>compact</td>\n",
       "      <td>1.5</td>\n",
       "      <td>4</td>\n",
       "      <td>av</td>\n",
       "      <td>z</td>\n",
       "      <td>6.0</td>\n",
       "      <td>5.8</td>\n",
       "      <td>5.9</td>\n",
       "      <td>47.0</td>\n",
       "      <td>136.0</td>\n",
       "    </tr>\n",
       "    <tr>\n",
       "      <th>3</th>\n",
       "      <td>suv - small</td>\n",
       "      <td>3.5</td>\n",
       "      <td>6</td>\n",
       "      <td>as</td>\n",
       "      <td>z</td>\n",
       "      <td>12.7</td>\n",
       "      <td>9.1</td>\n",
       "      <td>11.1</td>\n",
       "      <td>25.0</td>\n",
       "      <td>255.0</td>\n",
       "    </tr>\n",
       "    <tr>\n",
       "      <th>4</th>\n",
       "      <td>suv - small</td>\n",
       "      <td>3.5</td>\n",
       "      <td>6</td>\n",
       "      <td>as</td>\n",
       "      <td>z</td>\n",
       "      <td>12.1</td>\n",
       "      <td>8.7</td>\n",
       "      <td>10.6</td>\n",
       "      <td>27.0</td>\n",
       "      <td>244.0</td>\n",
       "    </tr>\n",
       "  </tbody>\n",
       "</table>\n",
       "</div>"
      ],
      "text/plain": [
       "  vehicle_class  engine_size  cylinders transmission fuel_type  \\\n",
       "0       compact          2.0          4           as         z   \n",
       "1       compact          2.4          4            m         z   \n",
       "2       compact          1.5          4           av         z   \n",
       "3   suv - small          3.5          6           as         z   \n",
       "4   suv - small          3.5          6           as         z   \n",
       "\n",
       "   fuel_consumption_city  fuel_consumption_hwy  \\\n",
       "0                    9.9                   6.7   \n",
       "1                   11.2                   7.7   \n",
       "2                    6.0                   5.8   \n",
       "3                   12.7                   9.1   \n",
       "4                   12.1                   8.7   \n",
       "\n",
       "   fuel_consumption_comb(l/100km)  fuel_consumption_comb(mpg)  co2_emissions  \n",
       "0                             8.5                        33.0          196.0  \n",
       "1                             9.6                        29.0          221.0  \n",
       "2                             5.9                        47.0          136.0  \n",
       "3                            11.1                        25.0          255.0  \n",
       "4                            10.6                        27.0          244.0  "
      ]
     },
     "execution_count": 4,
     "metadata": {},
     "output_type": "execute_result"
    }
   ],
   "source": [
    "# Dropping make and model features\n",
    "emission_data=emission_data.drop(['make','model'], axis=1)\n",
    "emission_data.head()"
   ]
  },
  {
   "cell_type": "code",
   "execution_count": 5,
   "id": "32ae444a",
   "metadata": {},
   "outputs": [
    {
     "data": {
      "text/html": [
       "<div>\n",
       "<style scoped>\n",
       "    .dataframe tbody tr th:only-of-type {\n",
       "        vertical-align: middle;\n",
       "    }\n",
       "\n",
       "    .dataframe tbody tr th {\n",
       "        vertical-align: top;\n",
       "    }\n",
       "\n",
       "    .dataframe thead th {\n",
       "        text-align: right;\n",
       "    }\n",
       "</style>\n",
       "<table border=\"1\" class=\"dataframe\">\n",
       "  <thead>\n",
       "    <tr style=\"text-align: right;\">\n",
       "      <th></th>\n",
       "      <th>vehicle_class</th>\n",
       "      <th>engine_size</th>\n",
       "      <th>cylinders</th>\n",
       "      <th>transmission</th>\n",
       "      <th>fuel_type</th>\n",
       "      <th>fuel_consumption_city</th>\n",
       "      <th>fuel_consumption_hwy</th>\n",
       "      <th>fuel_consumption_comb(l/100km)</th>\n",
       "      <th>fuel_consumption_comb(mpg)</th>\n",
       "      <th>co2_emissions</th>\n",
       "    </tr>\n",
       "  </thead>\n",
       "  <tbody>\n",
       "    <tr>\n",
       "      <th>0</th>\n",
       "      <td>0.0</td>\n",
       "      <td>2.0</td>\n",
       "      <td>4</td>\n",
       "      <td>2.0</td>\n",
       "      <td>4.0</td>\n",
       "      <td>9.9</td>\n",
       "      <td>6.7</td>\n",
       "      <td>8.5</td>\n",
       "      <td>33.0</td>\n",
       "      <td>196.0</td>\n",
       "    </tr>\n",
       "    <tr>\n",
       "      <th>1</th>\n",
       "      <td>0.0</td>\n",
       "      <td>2.4</td>\n",
       "      <td>4</td>\n",
       "      <td>4.0</td>\n",
       "      <td>4.0</td>\n",
       "      <td>11.2</td>\n",
       "      <td>7.7</td>\n",
       "      <td>9.6</td>\n",
       "      <td>29.0</td>\n",
       "      <td>221.0</td>\n",
       "    </tr>\n",
       "    <tr>\n",
       "      <th>2</th>\n",
       "      <td>0.0</td>\n",
       "      <td>1.5</td>\n",
       "      <td>4</td>\n",
       "      <td>3.0</td>\n",
       "      <td>4.0</td>\n",
       "      <td>6.0</td>\n",
       "      <td>5.8</td>\n",
       "      <td>5.9</td>\n",
       "      <td>47.0</td>\n",
       "      <td>136.0</td>\n",
       "    </tr>\n",
       "    <tr>\n",
       "      <th>3</th>\n",
       "      <td>11.0</td>\n",
       "      <td>3.5</td>\n",
       "      <td>6</td>\n",
       "      <td>2.0</td>\n",
       "      <td>4.0</td>\n",
       "      <td>12.7</td>\n",
       "      <td>9.1</td>\n",
       "      <td>11.1</td>\n",
       "      <td>25.0</td>\n",
       "      <td>255.0</td>\n",
       "    </tr>\n",
       "    <tr>\n",
       "      <th>4</th>\n",
       "      <td>11.0</td>\n",
       "      <td>3.5</td>\n",
       "      <td>6</td>\n",
       "      <td>2.0</td>\n",
       "      <td>4.0</td>\n",
       "      <td>12.1</td>\n",
       "      <td>8.7</td>\n",
       "      <td>10.6</td>\n",
       "      <td>27.0</td>\n",
       "      <td>244.0</td>\n",
       "    </tr>\n",
       "    <tr>\n",
       "      <th>5</th>\n",
       "      <td>2.0</td>\n",
       "      <td>3.5</td>\n",
       "      <td>6</td>\n",
       "      <td>2.0</td>\n",
       "      <td>4.0</td>\n",
       "      <td>11.9</td>\n",
       "      <td>7.7</td>\n",
       "      <td>10.0</td>\n",
       "      <td>28.0</td>\n",
       "      <td>230.0</td>\n",
       "    </tr>\n",
       "    <tr>\n",
       "      <th>6</th>\n",
       "      <td>2.0</td>\n",
       "      <td>3.5</td>\n",
       "      <td>6</td>\n",
       "      <td>2.0</td>\n",
       "      <td>4.0</td>\n",
       "      <td>11.8</td>\n",
       "      <td>8.1</td>\n",
       "      <td>10.1</td>\n",
       "      <td>28.0</td>\n",
       "      <td>232.0</td>\n",
       "    </tr>\n",
       "    <tr>\n",
       "      <th>7</th>\n",
       "      <td>2.0</td>\n",
       "      <td>3.7</td>\n",
       "      <td>6</td>\n",
       "      <td>2.0</td>\n",
       "      <td>4.0</td>\n",
       "      <td>12.8</td>\n",
       "      <td>9.0</td>\n",
       "      <td>11.1</td>\n",
       "      <td>25.0</td>\n",
       "      <td>255.0</td>\n",
       "    </tr>\n",
       "    <tr>\n",
       "      <th>8</th>\n",
       "      <td>2.0</td>\n",
       "      <td>3.7</td>\n",
       "      <td>6</td>\n",
       "      <td>4.0</td>\n",
       "      <td>4.0</td>\n",
       "      <td>13.4</td>\n",
       "      <td>9.5</td>\n",
       "      <td>11.6</td>\n",
       "      <td>24.0</td>\n",
       "      <td>267.0</td>\n",
       "    </tr>\n",
       "    <tr>\n",
       "      <th>9</th>\n",
       "      <td>0.0</td>\n",
       "      <td>2.4</td>\n",
       "      <td>4</td>\n",
       "      <td>2.0</td>\n",
       "      <td>4.0</td>\n",
       "      <td>10.6</td>\n",
       "      <td>7.5</td>\n",
       "      <td>9.2</td>\n",
       "      <td>31.0</td>\n",
       "      <td>212.0</td>\n",
       "    </tr>\n",
       "    <tr>\n",
       "      <th>10</th>\n",
       "      <td>0.0</td>\n",
       "      <td>2.4</td>\n",
       "      <td>4</td>\n",
       "      <td>4.0</td>\n",
       "      <td>4.0</td>\n",
       "      <td>11.2</td>\n",
       "      <td>8.1</td>\n",
       "      <td>9.8</td>\n",
       "      <td>29.0</td>\n",
       "      <td>225.0</td>\n",
       "    </tr>\n",
       "  </tbody>\n",
       "</table>\n",
       "</div>"
      ],
      "text/plain": [
       "    vehicle_class  engine_size  cylinders  transmission  fuel_type  \\\n",
       "0             0.0          2.0          4           2.0        4.0   \n",
       "1             0.0          2.4          4           4.0        4.0   \n",
       "2             0.0          1.5          4           3.0        4.0   \n",
       "3            11.0          3.5          6           2.0        4.0   \n",
       "4            11.0          3.5          6           2.0        4.0   \n",
       "5             2.0          3.5          6           2.0        4.0   \n",
       "6             2.0          3.5          6           2.0        4.0   \n",
       "7             2.0          3.7          6           2.0        4.0   \n",
       "8             2.0          3.7          6           4.0        4.0   \n",
       "9             0.0          2.4          4           2.0        4.0   \n",
       "10            0.0          2.4          4           4.0        4.0   \n",
       "\n",
       "    fuel_consumption_city  fuel_consumption_hwy  \\\n",
       "0                     9.9                   6.7   \n",
       "1                    11.2                   7.7   \n",
       "2                     6.0                   5.8   \n",
       "3                    12.7                   9.1   \n",
       "4                    12.1                   8.7   \n",
       "5                    11.9                   7.7   \n",
       "6                    11.8                   8.1   \n",
       "7                    12.8                   9.0   \n",
       "8                    13.4                   9.5   \n",
       "9                    10.6                   7.5   \n",
       "10                   11.2                   8.1   \n",
       "\n",
       "    fuel_consumption_comb(l/100km)  fuel_consumption_comb(mpg)  co2_emissions  \n",
       "0                              8.5                        33.0          196.0  \n",
       "1                              9.6                        29.0          221.0  \n",
       "2                              5.9                        47.0          136.0  \n",
       "3                             11.1                        25.0          255.0  \n",
       "4                             10.6                        27.0          244.0  \n",
       "5                             10.0                        28.0          230.0  \n",
       "6                             10.1                        28.0          232.0  \n",
       "7                             11.1                        25.0          255.0  \n",
       "8                             11.6                        24.0          267.0  \n",
       "9                              9.2                        31.0          212.0  \n",
       "10                             9.8                        29.0          225.0  "
      ]
     },
     "execution_count": 5,
     "metadata": {},
     "output_type": "execute_result"
    }
   ],
   "source": [
    "# Converting Categorical variables to ordinal\n",
    "oc = OrdinalEncoder()\n",
    "cols = ['vehicle_class','transmission','fuel_type']\n",
    "emission_data[cols] = oc.fit_transform(emission_data[cols])\n",
    "emission_data.head(11)"
   ]
  },
  {
   "cell_type": "code",
   "execution_count": 6,
   "id": "f80479d5",
   "metadata": {},
   "outputs": [],
   "source": [
    "X=emission_data.drop('co2_emissions', axis=1)\n",
    "y=emission_data[['co2_emissions']]"
   ]
  },
  {
   "cell_type": "code",
   "execution_count": 7,
   "id": "8e1cf7bc",
   "metadata": {},
   "outputs": [
    {
     "data": {
      "text/plain": [
       "((5981, 9), (5981, 1))"
      ]
     },
     "execution_count": 7,
     "metadata": {},
     "output_type": "execute_result"
    }
   ],
   "source": [
    "X.shape, y.shape"
   ]
  },
  {
   "cell_type": "markdown",
   "id": "1bd6b82b",
   "metadata": {},
   "source": [
    "## 4. FEATURE SELECTION TECHNIQUES"
   ]
  },
  {
   "cell_type": "markdown",
   "id": "f4bfda44",
   "metadata": {},
   "source": [
    "###  SelectKBest Technique : f_regression \n",
    "\n",
    "It is common to use correlation type statistical measures between input and output variables as the basis for filter feature selection.\n",
    "\n",
    "The statistical measures used in filter-based feature selection are generally calculated one input variable at a time with the target variable. As such, they are referred to as univariate statistical measures. This may mean that any interaction between input variables is not considered in the filtering process.\n"
   ]
  },
  {
   "cell_type": "code",
   "execution_count": 8,
   "id": "30c54cb7",
   "metadata": {},
   "outputs": [
    {
     "data": {
      "text/plain": [
       "SelectKBest(k=6, score_func=<function f_regression at 0x000001F941AF2280>)"
      ]
     },
     "execution_count": 8,
     "metadata": {},
     "output_type": "execute_result"
    }
   ],
   "source": [
    "select_k_best=SelectKBest(score_func=f_regression,k=6)\n",
    "select_k_best.fit(X,y)"
   ]
  },
  {
   "cell_type": "code",
   "execution_count": 9,
   "id": "8adcf3c6",
   "metadata": {},
   "outputs": [
    {
     "data": {
      "text/plain": [
       "array([False,  True,  True, False, False,  True,  True,  True,  True])"
      ]
     },
     "execution_count": 9,
     "metadata": {},
     "output_type": "execute_result"
    }
   ],
   "source": [
    "select_k_best.get_support()"
   ]
  },
  {
   "cell_type": "code",
   "execution_count": 10,
   "id": "79392aa2",
   "metadata": {},
   "outputs": [
    {
     "data": {
      "text/plain": [
       "Index(['engine_size', 'cylinders', 'fuel_consumption_city',\n",
       "       'fuel_consumption_hwy', 'fuel_consumption_comb(l/100km)',\n",
       "       'fuel_consumption_comb(mpg)'],\n",
       "      dtype='object')"
      ]
     },
     "execution_count": 10,
     "metadata": {},
     "output_type": "execute_result"
    }
   ],
   "source": [
    "X.columns[select_k_best.get_support()]"
   ]
  },
  {
   "cell_type": "markdown",
   "id": "c9dbe802",
   "metadata": {},
   "source": [
    "These are the features which are highly corelated with target feature."
   ]
  },
  {
   "cell_type": "markdown",
   "id": "edef2611",
   "metadata": {},
   "source": [
    "###  Using ExtraTreeRegreser feature_importances"
   ]
  },
  {
   "cell_type": "code",
   "execution_count": 11,
   "id": "9746c89e",
   "metadata": {},
   "outputs": [],
   "source": [
    "extra_tree_reg=ExtraTreesRegressor()"
   ]
  },
  {
   "cell_type": "code",
   "execution_count": 12,
   "id": "88ed46b0",
   "metadata": {},
   "outputs": [
    {
     "data": {
      "text/plain": [
       "ExtraTreesRegressor()"
      ]
     },
     "execution_count": 12,
     "metadata": {},
     "output_type": "execute_result"
    }
   ],
   "source": [
    "extra_tree_reg.fit(X,y)"
   ]
  },
  {
   "cell_type": "code",
   "execution_count": 13,
   "id": "f99f25fd",
   "metadata": {},
   "outputs": [
    {
     "data": {
      "text/plain": [
       "array([0.00394546, 0.11309525, 0.06717086, 0.00040742, 0.04944627,\n",
       "       0.17736214, 0.13464244, 0.2725337 , 0.18139645])"
      ]
     },
     "execution_count": 13,
     "metadata": {},
     "output_type": "execute_result"
    }
   ],
   "source": [
    "extra_tree_reg.feature_importances_"
   ]
  },
  {
   "cell_type": "code",
   "execution_count": 14,
   "id": "19fa785d",
   "metadata": {},
   "outputs": [
    {
     "data": {
      "text/html": [
       "<div>\n",
       "<style scoped>\n",
       "    .dataframe tbody tr th:only-of-type {\n",
       "        vertical-align: middle;\n",
       "    }\n",
       "\n",
       "    .dataframe tbody tr th {\n",
       "        vertical-align: top;\n",
       "    }\n",
       "\n",
       "    .dataframe thead th {\n",
       "        text-align: right;\n",
       "    }\n",
       "</style>\n",
       "<table border=\"1\" class=\"dataframe\">\n",
       "  <thead>\n",
       "    <tr style=\"text-align: right;\">\n",
       "      <th></th>\n",
       "      <th>features</th>\n",
       "      <th>scores</th>\n",
       "    </tr>\n",
       "  </thead>\n",
       "  <tbody>\n",
       "    <tr>\n",
       "      <th>0</th>\n",
       "      <td>vehicle_class</td>\n",
       "      <td>0.003945</td>\n",
       "    </tr>\n",
       "    <tr>\n",
       "      <th>1</th>\n",
       "      <td>engine_size</td>\n",
       "      <td>0.113095</td>\n",
       "    </tr>\n",
       "    <tr>\n",
       "      <th>2</th>\n",
       "      <td>cylinders</td>\n",
       "      <td>0.067171</td>\n",
       "    </tr>\n",
       "    <tr>\n",
       "      <th>3</th>\n",
       "      <td>transmission</td>\n",
       "      <td>0.000407</td>\n",
       "    </tr>\n",
       "    <tr>\n",
       "      <th>4</th>\n",
       "      <td>fuel_type</td>\n",
       "      <td>0.049446</td>\n",
       "    </tr>\n",
       "    <tr>\n",
       "      <th>5</th>\n",
       "      <td>fuel_consumption_city</td>\n",
       "      <td>0.177362</td>\n",
       "    </tr>\n",
       "    <tr>\n",
       "      <th>6</th>\n",
       "      <td>fuel_consumption_hwy</td>\n",
       "      <td>0.134642</td>\n",
       "    </tr>\n",
       "    <tr>\n",
       "      <th>7</th>\n",
       "      <td>fuel_consumption_comb(l/100km)</td>\n",
       "      <td>0.272534</td>\n",
       "    </tr>\n",
       "    <tr>\n",
       "      <th>8</th>\n",
       "      <td>fuel_consumption_comb(mpg)</td>\n",
       "      <td>0.181396</td>\n",
       "    </tr>\n",
       "  </tbody>\n",
       "</table>\n",
       "</div>"
      ],
      "text/plain": [
       "                         features    scores\n",
       "0                   vehicle_class  0.003945\n",
       "1                     engine_size  0.113095\n",
       "2                       cylinders  0.067171\n",
       "3                    transmission  0.000407\n",
       "4                       fuel_type  0.049446\n",
       "5           fuel_consumption_city  0.177362\n",
       "6            fuel_consumption_hwy  0.134642\n",
       "7  fuel_consumption_comb(l/100km)  0.272534\n",
       "8      fuel_consumption_comb(mpg)  0.181396"
      ]
     },
     "execution_count": 14,
     "metadata": {},
     "output_type": "execute_result"
    }
   ],
   "source": [
    "ranked_features=pd.DataFrame({'features':X.columns,'scores':extra_tree_reg.feature_importances_})\n",
    "ranked_features"
   ]
  },
  {
   "cell_type": "code",
   "execution_count": 15,
   "id": "50f32916",
   "metadata": {},
   "outputs": [
    {
     "data": {
      "image/png": "[encoded data removed]",
      "text/plain": [
       "<Figure size 720x432 with 1 Axes>"
      ]
     },
     "metadata": {
      "needs_background": "light"
     },
     "output_type": "display_data"
    }
   ],
   "source": [
    "plt.figure(figsize=(10,6))\n",
    "sns.barplot(x='scores',y='features', data=ranked_features)\n",
    "plt.title('Important Features', size=15)\n",
    "plt.show()"
   ]
  },
  {
   "cell_type": "code",
   "execution_count": 16,
   "id": "709c1a09",
   "metadata": {},
   "outputs": [
    {
     "data": {
      "text/html": [
       "<div>\n",
       "<style scoped>\n",
       "    .dataframe tbody tr th:only-of-type {\n",
       "        vertical-align: middle;\n",
       "    }\n",
       "\n",
       "    .dataframe tbody tr th {\n",
       "        vertical-align: top;\n",
       "    }\n",
       "\n",
       "    .dataframe thead th {\n",
       "        text-align: right;\n",
       "    }\n",
       "</style>\n",
       "<table border=\"1\" class=\"dataframe\">\n",
       "  <thead>\n",
       "    <tr style=\"text-align: right;\">\n",
       "      <th></th>\n",
       "      <th>features</th>\n",
       "      <th>scores</th>\n",
       "    </tr>\n",
       "  </thead>\n",
       "  <tbody>\n",
       "    <tr>\n",
       "      <th>7</th>\n",
       "      <td>fuel_consumption_comb(l/100km)</td>\n",
       "      <td>0.272534</td>\n",
       "    </tr>\n",
       "    <tr>\n",
       "      <th>8</th>\n",
       "      <td>fuel_consumption_comb(mpg)</td>\n",
       "      <td>0.181396</td>\n",
       "    </tr>\n",
       "    <tr>\n",
       "      <th>5</th>\n",
       "      <td>fuel_consumption_city</td>\n",
       "      <td>0.177362</td>\n",
       "    </tr>\n",
       "    <tr>\n",
       "      <th>6</th>\n",
       "      <td>fuel_consumption_hwy</td>\n",
       "      <td>0.134642</td>\n",
       "    </tr>\n",
       "    <tr>\n",
       "      <th>1</th>\n",
       "      <td>engine_size</td>\n",
       "      <td>0.113095</td>\n",
       "    </tr>\n",
       "    <tr>\n",
       "      <th>2</th>\n",
       "      <td>cylinders</td>\n",
       "      <td>0.067171</td>\n",
       "    </tr>\n",
       "  </tbody>\n",
       "</table>\n",
       "</div>"
      ],
      "text/plain": [
       "                         features    scores\n",
       "7  fuel_consumption_comb(l/100km)  0.272534\n",
       "8      fuel_consumption_comb(mpg)  0.181396\n",
       "5           fuel_consumption_city  0.177362\n",
       "6            fuel_consumption_hwy  0.134642\n",
       "1                     engine_size  0.113095\n",
       "2                       cylinders  0.067171"
      ]
     },
     "execution_count": 16,
     "metadata": {},
     "output_type": "execute_result"
    }
   ],
   "source": [
    "ranked_features.sort_values(by='scores', ascending=False).head(6)"
   ]
  },
  {
   "cell_type": "markdown",
   "id": "80490861",
   "metadata": {},
   "source": [
    "Here we can see the rank of explanatory variables which has high correlation with target variable."
   ]
  },
  {
   "cell_type": "markdown",
   "id": "d6214854",
   "metadata": {},
   "source": [
    "## Removal of Highly Correlated Explanatory Features"
   ]
  },
  {
   "cell_type": "code",
   "execution_count": 17,
   "id": "8b0b3d85",
   "metadata": {},
   "outputs": [
    {
     "data": {
      "image/png": "[encoded data removed]",
      "text/plain": [
       "<Figure size 720x432 with 2 Axes>"
      ]
     },
     "metadata": {
      "needs_background": "light"
     },
     "output_type": "display_data"
    }
   ],
   "source": [
    "plt.figure(figsize=(10,6))\n",
    "sns.heatmap(X.iloc[:,:-1].corr(), annot=True)\n",
    "plt.show()"
   ]
  },
  {
   "cell_type": "code",
   "execution_count": 18,
   "id": "7024b1d9",
   "metadata": {},
   "outputs": [],
   "source": [
    "# find and remove correlated features\n",
    "def correlation(dataset, threshold):\n",
    "    col_corr = set()  # Set of all the names of correlated columns\n",
    "    corr_matrix = dataset.corr()\n",
    "    for i in range(len(corr_matrix.columns)):\n",
    "        for j in range(i):\n",
    "            if abs(corr_matrix.iloc[i, j]) > threshold: # we are interested in absolute coeff value\n",
    "                colname = corr_matrix.columns[i]  # getting the name of column\n",
    "                col_corr.add(colname)\n",
    "    return col_corr"
   ]
  },
  {
   "cell_type": "code",
   "execution_count": 19,
   "id": "6cae12a0",
   "metadata": {},
   "outputs": [
    {
     "data": {
      "text/plain": [
       "{'cylinders',\n",
       " 'fuel_consumption_city',\n",
       " 'fuel_consumption_comb(l/100km)',\n",
       " 'fuel_consumption_hwy'}"
      ]
     },
     "execution_count": 19,
     "metadata": {},
     "output_type": "execute_result"
    }
   ],
   "source": [
    "correlation(X.iloc[:,:-1], 0.80)"
   ]
  },
  {
   "cell_type": "markdown",
   "id": "6b235a3c",
   "metadata": {},
   "source": [
    "These are the variables which are highly correlated with each other"
   ]
  },
  {
   "cell_type": "markdown",
   "id": "112581f3",
   "metadata": {},
   "source": [
    "Here we will consider cylenders and fuel_consumption_comb(1/100km) as they are highly correlated with target variables and less correalated with each other."
   ]
  },
  {
   "cell_type": "markdown",
   "id": "a18ea0ff",
   "metadata": {},
   "source": [
    "## 5. Final DataSet"
   ]
  },
  {
   "cell_type": "code",
   "execution_count": 20,
   "id": "4ddf77c1",
   "metadata": {},
   "outputs": [
    {
     "data": {
      "text/html": [
       "<div>\n",
       "<style scoped>\n",
       "    .dataframe tbody tr th:only-of-type {\n",
       "        vertical-align: middle;\n",
       "    }\n",
       "\n",
       "    .dataframe tbody tr th {\n",
       "        vertical-align: top;\n",
       "    }\n",
       "\n",
       "    .dataframe thead th {\n",
       "        text-align: right;\n",
       "    }\n",
       "</style>\n",
       "<table border=\"1\" class=\"dataframe\">\n",
       "  <thead>\n",
       "    <tr style=\"text-align: right;\">\n",
       "      <th></th>\n",
       "      <th>vehicle_class</th>\n",
       "      <th>engine_size</th>\n",
       "      <th>cylinders</th>\n",
       "      <th>transmission</th>\n",
       "      <th>fuel_type</th>\n",
       "      <th>fuel_consumption_comb(l/100km)</th>\n",
       "      <th>co2_emissions</th>\n",
       "    </tr>\n",
       "  </thead>\n",
       "  <tbody>\n",
       "    <tr>\n",
       "      <th>0</th>\n",
       "      <td>compact</td>\n",
       "      <td>2.0</td>\n",
       "      <td>4</td>\n",
       "      <td>as</td>\n",
       "      <td>z</td>\n",
       "      <td>8.5</td>\n",
       "      <td>196.0</td>\n",
       "    </tr>\n",
       "    <tr>\n",
       "      <th>1</th>\n",
       "      <td>compact</td>\n",
       "      <td>2.4</td>\n",
       "      <td>4</td>\n",
       "      <td>m</td>\n",
       "      <td>z</td>\n",
       "      <td>9.6</td>\n",
       "      <td>221.0</td>\n",
       "    </tr>\n",
       "    <tr>\n",
       "      <th>2</th>\n",
       "      <td>compact</td>\n",
       "      <td>1.5</td>\n",
       "      <td>4</td>\n",
       "      <td>av</td>\n",
       "      <td>z</td>\n",
       "      <td>5.9</td>\n",
       "      <td>136.0</td>\n",
       "    </tr>\n",
       "    <tr>\n",
       "      <th>3</th>\n",
       "      <td>suv - small</td>\n",
       "      <td>3.5</td>\n",
       "      <td>6</td>\n",
       "      <td>as</td>\n",
       "      <td>z</td>\n",
       "      <td>11.1</td>\n",
       "      <td>255.0</td>\n",
       "    </tr>\n",
       "    <tr>\n",
       "      <th>4</th>\n",
       "      <td>suv - small</td>\n",
       "      <td>3.5</td>\n",
       "      <td>6</td>\n",
       "      <td>as</td>\n",
       "      <td>z</td>\n",
       "      <td>10.6</td>\n",
       "      <td>244.0</td>\n",
       "    </tr>\n",
       "  </tbody>\n",
       "</table>\n",
       "</div>"
      ],
      "text/plain": [
       "  vehicle_class  engine_size  cylinders transmission fuel_type  \\\n",
       "0       compact          2.0          4           as         z   \n",
       "1       compact          2.4          4            m         z   \n",
       "2       compact          1.5          4           av         z   \n",
       "3   suv - small          3.5          6           as         z   \n",
       "4   suv - small          3.5          6           as         z   \n",
       "\n",
       "   fuel_consumption_comb(l/100km)  co2_emissions  \n",
       "0                             8.5          196.0  \n",
       "1                             9.6          221.0  \n",
       "2                             5.9          136.0  \n",
       "3                            11.1          255.0  \n",
       "4                            10.6          244.0  "
      ]
     },
     "execution_count": 20,
     "metadata": {},
     "output_type": "execute_result"
    }
   ],
   "source": [
    "emission_dataset=emission_data_copy.iloc[:,[2,3,4,5,6,9,11]]\n",
    "emission_dataset.head()"
   ]
  },
  {
   "cell_type": "code",
   "execution_count": 21,
   "id": "39aebd04",
   "metadata": {},
   "outputs": [
    {
     "data": {
      "text/html": [
       "<div>\n",
       "<style scoped>\n",
       "    .dataframe tbody tr th:only-of-type {\n",
       "        vertical-align: middle;\n",
       "    }\n",
       "\n",
       "    .dataframe tbody tr th {\n",
       "        vertical-align: top;\n",
       "    }\n",
       "\n",
       "    .dataframe thead th {\n",
       "        text-align: right;\n",
       "    }\n",
       "</style>\n",
       "<table border=\"1\" class=\"dataframe\">\n",
       "  <thead>\n",
       "    <tr style=\"text-align: right;\">\n",
       "      <th></th>\n",
       "      <th>vehicle_class</th>\n",
       "      <th>engine_size</th>\n",
       "      <th>cylinders</th>\n",
       "      <th>transmission</th>\n",
       "      <th>fuel_type</th>\n",
       "      <th>fuel_consumption_comb</th>\n",
       "      <th>co2_emissions</th>\n",
       "    </tr>\n",
       "  </thead>\n",
       "  <tbody>\n",
       "    <tr>\n",
       "      <th>0</th>\n",
       "      <td>compact</td>\n",
       "      <td>2.0</td>\n",
       "      <td>4</td>\n",
       "      <td>Automatic with select shift</td>\n",
       "      <td>Premium gasoline</td>\n",
       "      <td>8.5</td>\n",
       "      <td>196.0</td>\n",
       "    </tr>\n",
       "    <tr>\n",
       "      <th>1</th>\n",
       "      <td>compact</td>\n",
       "      <td>2.4</td>\n",
       "      <td>4</td>\n",
       "      <td>Manual</td>\n",
       "      <td>Premium gasoline</td>\n",
       "      <td>9.6</td>\n",
       "      <td>221.0</td>\n",
       "    </tr>\n",
       "    <tr>\n",
       "      <th>2</th>\n",
       "      <td>compact</td>\n",
       "      <td>1.5</td>\n",
       "      <td>4</td>\n",
       "      <td>Continuously variable</td>\n",
       "      <td>Premium gasoline</td>\n",
       "      <td>5.9</td>\n",
       "      <td>136.0</td>\n",
       "    </tr>\n",
       "    <tr>\n",
       "      <th>3</th>\n",
       "      <td>suv - small</td>\n",
       "      <td>3.5</td>\n",
       "      <td>6</td>\n",
       "      <td>Automatic with select shift</td>\n",
       "      <td>Premium gasoline</td>\n",
       "      <td>11.1</td>\n",
       "      <td>255.0</td>\n",
       "    </tr>\n",
       "    <tr>\n",
       "      <th>4</th>\n",
       "      <td>suv - small</td>\n",
       "      <td>3.5</td>\n",
       "      <td>6</td>\n",
       "      <td>Automatic with select shift</td>\n",
       "      <td>Premium gasoline</td>\n",
       "      <td>10.6</td>\n",
       "      <td>244.0</td>\n",
       "    </tr>\n",
       "  </tbody>\n",
       "</table>\n",
       "</div>"
      ],
      "text/plain": [
       "  vehicle_class  engine_size  cylinders                 transmission  \\\n",
       "0       compact          2.0          4  Automatic with select shift   \n",
       "1       compact          2.4          4                       Manual   \n",
       "2       compact          1.5          4        Continuously variable   \n",
       "3   suv - small          3.5          6  Automatic with select shift   \n",
       "4   suv - small          3.5          6  Automatic with select shift   \n",
       "\n",
       "          fuel_type  fuel_consumption_comb  co2_emissions  \n",
       "0  Premium gasoline                    8.5          196.0  \n",
       "1  Premium gasoline                    9.6          221.0  \n",
       "2  Premium gasoline                    5.9          136.0  \n",
       "3  Premium gasoline                   11.1          255.0  \n",
       "4  Premium gasoline                   10.6          244.0  "
      ]
     },
     "execution_count": 21,
     "metadata": {},
     "output_type": "execute_result"
    }
   ],
   "source": [
    "emission_dataset['transmission']=emission_dataset['transmission'].map({\"a\":\"Automatic\",'am':'Automated manual','as':'Automatic with select shift','av':'Continuously variable','m':'Manual'})\n",
    "emission_dataset['fuel_type']=emission_dataset['fuel_type'].map({\"x\":\"Regular gasoline\",'z':'Premium gasoline','d':'Diesel','e':'Ethanol (E85)','n':'Natural gas'})\n",
    "emission_dataset.rename(columns={'fuel_consumption_comb(l/100km)':'fuel_consumption_comb'}, inplace=True)\n",
    "emission_dataset.head()"
   ]
  },
  {
   "cell_type": "code",
   "execution_count": 22,
   "id": "8c7ccca7",
   "metadata": {},
   "outputs": [],
   "source": [
    "emission_dataset.to_csv('Final_Emission_Data.csv', index=False)"
   ]
  }
 ],
 "metadata": {
  "kernelspec": {
   "display_name": "Python 3",
   "language": "python",
   "name": "python3"
  },
  "language_info": {
   "codemirror_mode": {
    "name": "ipython",
    "version": 3
   },
   "file_extension": ".py",
   "mimetype": "text/x-python",
   "name": "python",
   "nbconvert_exporter": "python",
   "pygments_lexer": "ipython3",
   "version": "3.8.8"
  }
 },
 "nbformat": 4,
 "nbformat_minor": 5
}
