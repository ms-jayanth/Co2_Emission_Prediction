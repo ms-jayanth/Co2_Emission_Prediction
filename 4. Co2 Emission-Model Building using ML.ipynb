{
 "cells": [
  {
   "cell_type": "markdown",
   "id": "265cd350",
   "metadata": {},
   "source": [
    "# CO2 EMISSION"
   ]
  },
  {
   "cell_type": "markdown",
   "id": "eb662ab4",
   "metadata": {},
   "source": [
    "## Model Building and Model Evaluation using Machine Learning Algorithms"
   ]
  },
  {
   "cell_type": "markdown",
   "id": "6ab63995",
   "metadata": {},
   "source": [
    "## 1. Import Necessary Libraries"
   ]
  },
  {
   "cell_type": "code",
   "execution_count": 1,
   "id": "c86f4362",
   "metadata": {},
   "outputs": [],
   "source": [
    "import pandas as pd\n",
    "import numpy as np\n",
    "from scipy import stats\n",
    "\n",
    "import matplotlib.pyplot as plt\n",
    "import seaborn as sns\n",
    "\n",
    "from sklearn.preprocessing import PolynomialFeatures, StandardScaler, OrdinalEncoder\n",
    "from sklearn.model_selection import train_test_split, GridSearchCV\n",
    "from sklearn.linear_model import LinearRegression, Lasso, Ridge\n",
    "from sklearn.tree import DecisionTreeRegressor\n",
    "from sklearn.ensemble import RandomForestRegressor, GradientBoostingRegressor\n",
    "import xgboost as xgb\n",
    "from sklearn.svm import SVR\n",
    "from sklearn.metrics import mean_squared_error, r2_score\n",
    "\n",
    "from pickle import dump, load"
   ]
  },
  {
   "cell_type": "markdown",
   "id": "ac9eaa6c",
   "metadata": {},
   "source": [
    "## 2. Load Data"
   ]
  },
  {
   "cell_type": "code",
   "execution_count": 2,
   "id": "fd5f081e",
   "metadata": {},
   "outputs": [
    {
     "data": {
      "text/html": [
       "<div>\n",
       "<style scoped>\n",
       "    .dataframe tbody tr th:only-of-type {\n",
       "        vertical-align: middle;\n",
       "    }\n",
       "\n",
       "    .dataframe tbody tr th {\n",
       "        vertical-align: top;\n",
       "    }\n",
       "\n",
       "    .dataframe thead th {\n",
       "        text-align: right;\n",
       "    }\n",
       "</style>\n",
       "<table border=\"1\" class=\"dataframe\">\n",
       "  <thead>\n",
       "    <tr style=\"text-align: right;\">\n",
       "      <th></th>\n",
       "      <th>vehicle_class</th>\n",
       "      <th>engine_size</th>\n",
       "      <th>cylinders</th>\n",
       "      <th>transmission</th>\n",
       "      <th>fuel_type</th>\n",
       "      <th>fuel_consumption_comb</th>\n",
       "      <th>co2_emissions</th>\n",
       "    </tr>\n",
       "  </thead>\n",
       "  <tbody>\n",
       "    <tr>\n",
       "      <th>0</th>\n",
       "      <td>compact</td>\n",
       "      <td>2.0</td>\n",
       "      <td>4</td>\n",
       "      <td>Automatic with select shift</td>\n",
       "      <td>Premium gasoline</td>\n",
       "      <td>8.5</td>\n",
       "      <td>196.0</td>\n",
       "    </tr>\n",
       "    <tr>\n",
       "      <th>1</th>\n",
       "      <td>compact</td>\n",
       "      <td>2.4</td>\n",
       "      <td>4</td>\n",
       "      <td>Manual</td>\n",
       "      <td>Premium gasoline</td>\n",
       "      <td>9.6</td>\n",
       "      <td>221.0</td>\n",
       "    </tr>\n",
       "    <tr>\n",
       "      <th>2</th>\n",
       "      <td>compact</td>\n",
       "      <td>1.5</td>\n",
       "      <td>4</td>\n",
       "      <td>Continuously variable</td>\n",
       "      <td>Premium gasoline</td>\n",
       "      <td>5.9</td>\n",
       "      <td>136.0</td>\n",
       "    </tr>\n",
       "    <tr>\n",
       "      <th>3</th>\n",
       "      <td>suv - small</td>\n",
       "      <td>3.5</td>\n",
       "      <td>6</td>\n",
       "      <td>Automatic with select shift</td>\n",
       "      <td>Premium gasoline</td>\n",
       "      <td>11.1</td>\n",
       "      <td>255.0</td>\n",
       "    </tr>\n",
       "    <tr>\n",
       "      <th>4</th>\n",
       "      <td>suv - small</td>\n",
       "      <td>3.5</td>\n",
       "      <td>6</td>\n",
       "      <td>Automatic with select shift</td>\n",
       "      <td>Premium gasoline</td>\n",
       "      <td>10.6</td>\n",
       "      <td>244.0</td>\n",
       "    </tr>\n",
       "  </tbody>\n",
       "</table>\n",
       "</div>"
      ],
      "text/plain": [
       "  vehicle_class  engine_size  cylinders                 transmission  \\\n",
       "0       compact          2.0          4  Automatic with select shift   \n",
       "1       compact          2.4          4                       Manual   \n",
       "2       compact          1.5          4        Continuously variable   \n",
       "3   suv - small          3.5          6  Automatic with select shift   \n",
       "4   suv - small          3.5          6  Automatic with select shift   \n",
       "\n",
       "          fuel_type  fuel_consumption_comb  co2_emissions  \n",
       "0  Premium gasoline                    8.5          196.0  \n",
       "1  Premium gasoline                    9.6          221.0  \n",
       "2  Premium gasoline                    5.9          136.0  \n",
       "3  Premium gasoline                   11.1          255.0  \n",
       "4  Premium gasoline                   10.6          244.0  "
      ]
     },
     "execution_count": 2,
     "metadata": {},
     "output_type": "execute_result"
    }
   ],
   "source": [
    "emission_data=pd.read_csv('Final_Emission_Data.csv')\n",
    "emission_data.head() "
   ]
  },
  {
   "cell_type": "code",
   "execution_count": 3,
   "id": "e9287331",
   "metadata": {},
   "outputs": [
    {
     "data": {
      "text/html": [
       "<div>\n",
       "<style scoped>\n",
       "    .dataframe tbody tr th:only-of-type {\n",
       "        vertical-align: middle;\n",
       "    }\n",
       "\n",
       "    .dataframe tbody tr th {\n",
       "        vertical-align: top;\n",
       "    }\n",
       "\n",
       "    .dataframe thead th {\n",
       "        text-align: right;\n",
       "    }\n",
       "</style>\n",
       "<table border=\"1\" class=\"dataframe\">\n",
       "  <thead>\n",
       "    <tr style=\"text-align: right;\">\n",
       "      <th></th>\n",
       "      <th>vehicle_class</th>\n",
       "      <th>engine_size</th>\n",
       "      <th>cylinders</th>\n",
       "      <th>transmission</th>\n",
       "      <th>fuel_type</th>\n",
       "      <th>fuel_consumption_comb</th>\n",
       "      <th>co2_emissions</th>\n",
       "    </tr>\n",
       "  </thead>\n",
       "  <tbody>\n",
       "    <tr>\n",
       "      <th>0</th>\n",
       "      <td>0.0</td>\n",
       "      <td>2.0</td>\n",
       "      <td>4</td>\n",
       "      <td>2.0</td>\n",
       "      <td>3.0</td>\n",
       "      <td>8.5</td>\n",
       "      <td>196.0</td>\n",
       "    </tr>\n",
       "    <tr>\n",
       "      <th>1</th>\n",
       "      <td>0.0</td>\n",
       "      <td>2.4</td>\n",
       "      <td>4</td>\n",
       "      <td>4.0</td>\n",
       "      <td>3.0</td>\n",
       "      <td>9.6</td>\n",
       "      <td>221.0</td>\n",
       "    </tr>\n",
       "    <tr>\n",
       "      <th>2</th>\n",
       "      <td>0.0</td>\n",
       "      <td>1.5</td>\n",
       "      <td>4</td>\n",
       "      <td>3.0</td>\n",
       "      <td>3.0</td>\n",
       "      <td>5.9</td>\n",
       "      <td>136.0</td>\n",
       "    </tr>\n",
       "    <tr>\n",
       "      <th>3</th>\n",
       "      <td>11.0</td>\n",
       "      <td>3.5</td>\n",
       "      <td>6</td>\n",
       "      <td>2.0</td>\n",
       "      <td>3.0</td>\n",
       "      <td>11.1</td>\n",
       "      <td>255.0</td>\n",
       "    </tr>\n",
       "    <tr>\n",
       "      <th>4</th>\n",
       "      <td>11.0</td>\n",
       "      <td>3.5</td>\n",
       "      <td>6</td>\n",
       "      <td>2.0</td>\n",
       "      <td>3.0</td>\n",
       "      <td>10.6</td>\n",
       "      <td>244.0</td>\n",
       "    </tr>\n",
       "    <tr>\n",
       "      <th>5</th>\n",
       "      <td>2.0</td>\n",
       "      <td>3.5</td>\n",
       "      <td>6</td>\n",
       "      <td>2.0</td>\n",
       "      <td>3.0</td>\n",
       "      <td>10.0</td>\n",
       "      <td>230.0</td>\n",
       "    </tr>\n",
       "    <tr>\n",
       "      <th>6</th>\n",
       "      <td>2.0</td>\n",
       "      <td>3.5</td>\n",
       "      <td>6</td>\n",
       "      <td>2.0</td>\n",
       "      <td>3.0</td>\n",
       "      <td>10.1</td>\n",
       "      <td>232.0</td>\n",
       "    </tr>\n",
       "    <tr>\n",
       "      <th>7</th>\n",
       "      <td>2.0</td>\n",
       "      <td>3.7</td>\n",
       "      <td>6</td>\n",
       "      <td>2.0</td>\n",
       "      <td>3.0</td>\n",
       "      <td>11.1</td>\n",
       "      <td>255.0</td>\n",
       "    </tr>\n",
       "    <tr>\n",
       "      <th>8</th>\n",
       "      <td>2.0</td>\n",
       "      <td>3.7</td>\n",
       "      <td>6</td>\n",
       "      <td>4.0</td>\n",
       "      <td>3.0</td>\n",
       "      <td>11.6</td>\n",
       "      <td>267.0</td>\n",
       "    </tr>\n",
       "    <tr>\n",
       "      <th>9</th>\n",
       "      <td>0.0</td>\n",
       "      <td>2.4</td>\n",
       "      <td>4</td>\n",
       "      <td>2.0</td>\n",
       "      <td>3.0</td>\n",
       "      <td>9.2</td>\n",
       "      <td>212.0</td>\n",
       "    </tr>\n",
       "    <tr>\n",
       "      <th>10</th>\n",
       "      <td>0.0</td>\n",
       "      <td>2.4</td>\n",
       "      <td>4</td>\n",
       "      <td>4.0</td>\n",
       "      <td>3.0</td>\n",
       "      <td>9.8</td>\n",
       "      <td>225.0</td>\n",
       "    </tr>\n",
       "  </tbody>\n",
       "</table>\n",
       "</div>"
      ],
      "text/plain": [
       "    vehicle_class  engine_size  cylinders  transmission  fuel_type  \\\n",
       "0             0.0          2.0          4           2.0        3.0   \n",
       "1             0.0          2.4          4           4.0        3.0   \n",
       "2             0.0          1.5          4           3.0        3.0   \n",
       "3            11.0          3.5          6           2.0        3.0   \n",
       "4            11.0          3.5          6           2.0        3.0   \n",
       "5             2.0          3.5          6           2.0        3.0   \n",
       "6             2.0          3.5          6           2.0        3.0   \n",
       "7             2.0          3.7          6           2.0        3.0   \n",
       "8             2.0          3.7          6           4.0        3.0   \n",
       "9             0.0          2.4          4           2.0        3.0   \n",
       "10            0.0          2.4          4           4.0        3.0   \n",
       "\n",
       "    fuel_consumption_comb  co2_emissions  \n",
       "0                     8.5          196.0  \n",
       "1                     9.6          221.0  \n",
       "2                     5.9          136.0  \n",
       "3                    11.1          255.0  \n",
       "4                    10.6          244.0  \n",
       "5                    10.0          230.0  \n",
       "6                    10.1          232.0  \n",
       "7                    11.1          255.0  \n",
       "8                    11.6          267.0  \n",
       "9                     9.2          212.0  \n",
       "10                    9.8          225.0  "
      ]
     },
     "execution_count": 3,
     "metadata": {},
     "output_type": "execute_result"
    }
   ],
   "source": [
    "# Converting Categorical variables to ordinal\n",
    "oc = OrdinalEncoder()\n",
    "cols = ['vehicle_class','transmission','fuel_type']\n",
    "emission_data[cols] = oc.fit_transform(emission_data[cols])\n",
    "emission_data.head(11)"
   ]
  },
  {
   "cell_type": "markdown",
   "id": "d672b5c7",
   "metadata": {},
   "source": [
    "## 3. Model Building and Model Evaluation"
   ]
  },
  {
   "cell_type": "code",
   "execution_count": 4,
   "id": "e2b58343",
   "metadata": {},
   "outputs": [],
   "source": [
    "X=emission_data.drop('co2_emissions', axis=1)\n",
    "y=emission_data[['co2_emissions']]"
   ]
  },
  {
   "cell_type": "code",
   "execution_count": 5,
   "id": "2cff9e1c",
   "metadata": {},
   "outputs": [
    {
     "data": {
      "text/plain": [
       "((5981, 6), (5981, 1))"
      ]
     },
     "execution_count": 5,
     "metadata": {},
     "output_type": "execute_result"
    }
   ],
   "source": [
    "X.shape, y.shape"
   ]
  },
  {
   "cell_type": "code",
   "execution_count": 6,
   "id": "f75da808",
   "metadata": {},
   "outputs": [],
   "source": [
    "# Splitting data into train test data for validation\n",
    "X_train, X_test, y_train, y_test=train_test_split(X,y, test_size=0.2,random_state=True)"
   ]
  },
  {
   "cell_type": "code",
   "execution_count": 7,
   "id": "d36d0236",
   "metadata": {},
   "outputs": [
    {
     "data": {
      "text/plain": [
       "((4784, 6), (4784, 1))"
      ]
     },
     "execution_count": 7,
     "metadata": {},
     "output_type": "execute_result"
    }
   ],
   "source": [
    "X_train.shape, y_train.shape"
   ]
  },
  {
   "cell_type": "code",
   "execution_count": 8,
   "id": "42d85015",
   "metadata": {},
   "outputs": [
    {
     "data": {
      "text/plain": [
       "((1197, 6), (1197, 1))"
      ]
     },
     "execution_count": 8,
     "metadata": {},
     "output_type": "execute_result"
    }
   ],
   "source": [
    "X_test.shape, y_test.shape"
   ]
  },
  {
   "cell_type": "markdown",
   "id": "1c3a2e09",
   "metadata": {},
   "source": [
    "## * Linear Regression"
   ]
  },
  {
   "cell_type": "code",
   "execution_count": 9,
   "id": "b1eee672",
   "metadata": {},
   "outputs": [],
   "source": [
    "def run_LinearRegression(X_train, X_test, y_train, y_test):\n",
    "    linear_model=LinearRegression()\n",
    "    linear_model.fit(X_train, y_train)\n",
    "    \n",
    "    y_train_pred=linear_model.predict(X_train)\n",
    "    y_test_pred=linear_model.predict(X_test)\n",
    "    \n",
    "    print('R-Square Score for Train data:', round(r2_score(y_train, y_train_pred),4))\n",
    "    print('Mean Square Error for Train data::', round(mean_squared_error(y_train, y_train_pred),4))\n",
    "    print('R-Square Score for Train data:', round(r2_score(y_test, y_test_pred),4))\n",
    "    print('Mean Square Error for Train data::', round(mean_squared_error(y_test, y_test_pred),4))"
   ]
  },
  {
   "cell_type": "code",
   "execution_count": 10,
   "id": "a53fd69f",
   "metadata": {},
   "outputs": [
    {
     "name": "stdout",
     "output_type": "stream",
     "text": [
      "R-Square Score for Train data: 0.9029\n",
      "Mean Square Error for Train data:: 331.9373\n",
      "R-Square Score for Train data: 0.9023\n",
      "Mean Square Error for Train data:: 342.8925\n",
      "Wall time: 1.7 s\n"
     ]
    }
   ],
   "source": [
    "%%time\n",
    "run_LinearRegression(X_train, X_test, y_train, y_test)"
   ]
  },
  {
   "cell_type": "markdown",
   "id": "c10f61b5",
   "metadata": {},
   "source": [
    "### Assumptions Check"
   ]
  },
  {
   "cell_type": "markdown",
   "id": "f49d1546",
   "metadata": {},
   "source": [
    "#### 1. Linearity Test"
   ]
  },
  {
   "cell_type": "code",
   "execution_count": 11,
   "id": "535ee46d",
   "metadata": {},
   "outputs": [
    {
     "data": {
      "image/png": "[encoded data removed]",
      "text/plain": [
       "<Figure size 360x360 with 1 Axes>"
      ]
     },
     "metadata": {
      "needs_background": "light"
     },
     "output_type": "display_data"
    },
    {
     "name": "stdout",
     "output_type": "stream",
     "text": [
      "\n",
      "---------------------------------------------------------------------------------------------------------------\n"
     ]
    },
    {
     "data": {
      "image/png": "[encoded data removed]",
      "text/plain": [
       "<Figure size 360x360 with 1 Axes>"
      ]
     },
     "metadata": {
      "needs_background": "light"
     },
     "output_type": "display_data"
    },
    {
     "name": "stdout",
     "output_type": "stream",
     "text": [
      "\n",
      "---------------------------------------------------------------------------------------------------------------\n"
     ]
    },
    {
     "data": {
      "image/png": "[encoded data removed]",
      "text/plain": [
       "<Figure size 360x360 with 1 Axes>"
      ]
     },
     "metadata": {
      "needs_background": "light"
     },
     "output_type": "display_data"
    },
    {
     "name": "stdout",
     "output_type": "stream",
     "text": [
      "\n",
      "---------------------------------------------------------------------------------------------------------------\n"
     ]
    }
   ],
   "source": [
    "for i in ['engine_size','cylinders','fuel_consumption_comb']:\n",
    "    sns.lmplot(x=i, y='co2_emissions', data=emission_data)\n",
    "    plt.title(i)\n",
    "    plt.show()\n",
    "    print('\\n---------------------------------------------------------------------------------------------------------------')"
   ]
  },
  {
   "cell_type": "markdown",
   "id": "077625bb",
   "metadata": {},
   "source": [
    "#### Linearity Test is Passed"
   ]
  },
  {
   "cell_type": "markdown",
   "id": "aa48e861",
   "metadata": {},
   "source": [
    "#### 2. Normality Test"
   ]
  },
  {
   "cell_type": "code",
   "execution_count": 12,
   "id": "90ecf63d",
   "metadata": {},
   "outputs": [
    {
     "data": {
      "image/png": "[encoded data removed]",
      "text/plain": [
       "<Figure size 432x288 with 1 Axes>"
      ]
     },
     "metadata": {
      "needs_background": "light"
     },
     "output_type": "display_data"
    },
    {
     "data": {
      "image/png": "[encoded data removed]",
      "text/plain": [
       "<Figure size 432x288 with 1 Axes>"
      ]
     },
     "metadata": {
      "needs_background": "light"
     },
     "output_type": "display_data"
    },
    {
     "data": {
      "image/png": "[encoded data removed]",
      "text/plain": [
       "<Figure size 432x288 with 1 Axes>"
      ]
     },
     "metadata": {
      "needs_background": "light"
     },
     "output_type": "display_data"
    }
   ],
   "source": [
    "for i in ['engine_size','fuel_consumption_comb','co2_emissions']:\n",
    "    stats.probplot(x=emission_data[i], dist='norm', plot=plt)\n",
    "    plt.show()"
   ]
  },
  {
   "cell_type": "markdown",
   "id": "8717b109",
   "metadata": {},
   "source": [
    "#### Normality test is Passed"
   ]
  },
  {
   "cell_type": "markdown",
   "id": "8fbc3586",
   "metadata": {},
   "source": [
    "#### 3. Multicollinearity Test "
   ]
  },
  {
   "cell_type": "code",
   "execution_count": 13,
   "id": "d7fe30c3",
   "metadata": {},
   "outputs": [
    {
     "data": {
      "image/png": "[encoded data removed]",
      "text/plain": [
       "<Figure size 720x432 with 2 Axes>"
      ]
     },
     "metadata": {
      "needs_background": "light"
     },
     "output_type": "display_data"
    }
   ],
   "source": [
    "plt.figure(figsize=(10,6))\n",
    "sns.heatmap(X.corr(), annot=True)\n",
    "plt.show()"
   ]
  },
  {
   "cell_type": "markdown",
   "id": "6da79e04",
   "metadata": {},
   "source": [
    "#### Multicollinearity test is Passed"
   ]
  },
  {
   "cell_type": "markdown",
   "id": "710b0eca",
   "metadata": {},
   "source": [
    "#### 4. AutoRegresssion Test - Passed"
   ]
  },
  {
   "cell_type": "markdown",
   "id": "90db45d8",
   "metadata": {},
   "source": [
    "#### 5. Homoscadasticity Check"
   ]
  },
  {
   "cell_type": "code",
   "execution_count": 14,
   "id": "d3d2de45",
   "metadata": {},
   "outputs": [],
   "source": [
    "linear_model=LinearRegression()\n",
    "linear_model.fit(X,y)\n",
    "y_pred=linear_model.predict(X)\n",
    "error=y-y_pred"
   ]
  },
  {
   "cell_type": "code",
   "execution_count": 15,
   "id": "860d0955",
   "metadata": {},
   "outputs": [
    {
     "data": {
      "image/png": "[encoded data removed]",
      "text/plain": [
       "<Figure size 432x288 with 1 Axes>"
      ]
     },
     "metadata": {
      "needs_background": "light"
     },
     "output_type": "display_data"
    },
    {
     "data": {
      "image/png": "[encoded data removed]",
      "text/plain": [
       "<Figure size 432x288 with 1 Axes>"
      ]
     },
     "metadata": {
      "needs_background": "light"
     },
     "output_type": "display_data"
    },
    {
     "data": {
      "image/png": "[encoded data removed]",
      "text/plain": [
       "<Figure size 432x288 with 1 Axes>"
      ]
     },
     "metadata": {
      "needs_background": "light"
     },
     "output_type": "display_data"
    },
    {
     "data": {
      "image/png": "[encoded data removed]",
      "text/plain": [
       "<Figure size 432x288 with 1 Axes>"
      ]
     },
     "metadata": {
      "needs_background": "light"
     },
     "output_type": "display_data"
    },
    {
     "data": {
      "image/png": "[encoded data removed]",
      "text/plain": [
       "<Figure size 432x288 with 1 Axes>"
      ]
     },
     "metadata": {
      "needs_background": "light"
     },
     "output_type": "display_data"
    },
    {
     "data": {
      "image/png": "[encoded data removed]",
      "text/plain": [
       "<Figure size 432x288 with 1 Axes>"
      ]
     },
     "metadata": {
      "needs_background": "light"
     },
     "output_type": "display_data"
    }
   ],
   "source": [
    "for i in X.columns:\n",
    "    plt.scatter(x=X[i], y=error)\n",
    "    plt.title('Homoscadasticity Chech - X vs Error')\n",
    "    plt.xlabel(i)\n",
    "    plt.ylabel('Error')\n",
    "    plt.show()"
   ]
  },
  {
   "cell_type": "markdown",
   "id": "136ea65a",
   "metadata": {},
   "source": [
    "#### Homoscadastisity test is Passed"
   ]
  },
  {
   "cell_type": "markdown",
   "id": "43841a85",
   "metadata": {},
   "source": [
    "#### 6. Zero Residual Mean Test\n",
    "\n",
    "It is a plot b/w our **Actual output vs Predicted output**"
   ]
  },
  {
   "cell_type": "code",
   "execution_count": 16,
   "id": "8e17385a",
   "metadata": {},
   "outputs": [
    {
     "data": {
      "image/png": "[encoded data removed]",
      "text/plain": [
       "<Figure size 432x288 with 1 Axes>"
      ]
     },
     "metadata": {
      "needs_background": "light"
     },
     "output_type": "display_data"
    }
   ],
   "source": [
    "plt.scatter(x=y,y=y_pred,)\n",
    "plt.title('Actual output vs Predicted output')\n",
    "plt.xlabel('Actual output')\n",
    "plt.ylabel('Predicted output')\n",
    "plt.show()"
   ]
  },
  {
   "cell_type": "markdown",
   "id": "91a891c4",
   "metadata": {},
   "source": [
    "#### Zero residual test is passed"
   ]
  },
  {
   "cell_type": "markdown",
   "id": "26765138",
   "metadata": {},
   "source": [
    "### All the Assumptions test is Passed"
   ]
  },
  {
   "cell_type": "markdown",
   "id": "540a5563",
   "metadata": {},
   "source": [
    "## * Polynomial Regression"
   ]
  },
  {
   "cell_type": "code",
   "execution_count": 17,
   "id": "2e242351",
   "metadata": {},
   "outputs": [],
   "source": [
    "def run_PolynomialRegression(X_train, X_test, y_train, y_test):\n",
    "    polynomial=PolynomialFeatures(degree=2)\n",
    "    X_train_poly = polynomial.fit_transform(X_train)\n",
    "    X_test_poly = polynomial.fit_transform(X_test)\n",
    "    linear_model=LinearRegression()\n",
    "    linear_model.fit(X_train_poly, y_train)\n",
    "    \n",
    "    y_train_pred=linear_model.predict(X_train_poly)\n",
    "    y_test_pred=linear_model.predict(X_test_poly)\n",
    "    \n",
    "    print('R-Square Score for Train data:', round(r2_score(y_train, y_train_pred),4))\n",
    "    print('Mean Square Error for Train data::', round(mean_squared_error(y_train, y_train_pred),4))\n",
    "    print('R-Square Score for Train data:', round(r2_score(y_test, y_test_pred),4))\n",
    "    print('Mean Square Error for Train data::', round(mean_squared_error(y_test, y_test_pred),4))"
   ]
  },
  {
   "cell_type": "code",
   "execution_count": 18,
   "id": "fa87099d",
   "metadata": {},
   "outputs": [
    {
     "name": "stdout",
     "output_type": "stream",
     "text": [
      "R-Square Score for Train data: 0.967\n",
      "Mean Square Error for Train data:: 112.7668\n",
      "R-Square Score for Train data: 0.9649\n",
      "Mean Square Error for Train data:: 123.3013\n",
      "Wall time: 341 ms\n"
     ]
    }
   ],
   "source": [
    "%%time\n",
    "run_PolynomialRegression(X_train, X_test, y_train, y_test)"
   ]
  },
  {
   "cell_type": "markdown",
   "id": "e601d40b",
   "metadata": {},
   "source": [
    "## Lasso Regression"
   ]
  },
  {
   "cell_type": "code",
   "execution_count": 19,
   "id": "65d0ce9a",
   "metadata": {},
   "outputs": [],
   "source": [
    "def run_LassoRegression(X_train, X_test, y_train, y_test):\n",
    "    lasso_regressor=Lasso()\n",
    "    lasso_regressor.fit(X_train, y_train)\n",
    "    \n",
    "    y_train_pred=lasso_regressor.predict(X_train)\n",
    "    y_test_pred=lasso_regressor.predict(X_test)\n",
    "    \n",
    "    print('R-Square Score for Train data:', round(r2_score(y_train, y_train_pred),4))\n",
    "    print('Mean Square Error for Train data::', round(mean_squared_error(y_train, y_train_pred),4))\n",
    "    print('R-Square Score for Train data:', round(r2_score(y_test, y_test_pred),4))\n",
    "    print('Mean Square Error for Train data::', round(mean_squared_error(y_test, y_test_pred),4))"
   ]
  },
  {
   "cell_type": "code",
   "execution_count": 20,
   "id": "cdf64449",
   "metadata": {},
   "outputs": [
    {
     "name": "stdout",
     "output_type": "stream",
     "text": [
      "R-Square Score for Train data: 0.9022\n",
      "Mean Square Error for Train data:: 334.4178\n",
      "R-Square Score for Train data: 0.9005\n",
      "Mean Square Error for Train data:: 349.1125\n",
      "Wall time: 153 ms\n"
     ]
    }
   ],
   "source": [
    "%%time\n",
    "run_LassoRegression(X_train, X_test, y_train, y_test)"
   ]
  },
  {
   "cell_type": "markdown",
   "id": "4f415ba8",
   "metadata": {},
   "source": [
    "## Ridge Regression"
   ]
  },
  {
   "cell_type": "code",
   "execution_count": 21,
   "id": "b0de24dd",
   "metadata": {},
   "outputs": [],
   "source": [
    "def run_RidgeRegression(X_train, X_test, y_train, y_test):\n",
    "    ridge_regressor=Ridge()\n",
    "    ridge_regressor.fit(X_train, y_train)\n",
    "    \n",
    "    y_train_pred=ridge_regressor.predict(X_train)\n",
    "    y_test_pred=ridge_regressor.predict(X_test)\n",
    "    \n",
    "    print('R-Square Score for Train data:', round(r2_score(y_train, y_train_pred),4))\n",
    "    print('Mean Square Error for Train data::', round(mean_squared_error(y_train, y_train_pred),4))\n",
    "    print('R-Square Score for Train data:', round(r2_score(y_test, y_test_pred),4))\n",
    "    print('Mean Square Error for Train data::', round(mean_squared_error(y_test, y_test_pred),4))"
   ]
  },
  {
   "cell_type": "code",
   "execution_count": 22,
   "id": "c25a5c8c",
   "metadata": {},
   "outputs": [
    {
     "name": "stdout",
     "output_type": "stream",
     "text": [
      "R-Square Score for Train data: 0.9029\n",
      "Mean Square Error for Train data:: 331.9374\n",
      "R-Square Score for Train data: 0.9023\n",
      "Mean Square Error for Train data:: 342.8954\n",
      "Wall time: 337 ms\n"
     ]
    }
   ],
   "source": [
    "%%time\n",
    "run_RidgeRegression(X_train, X_test, y_train, y_test)"
   ]
  },
  {
   "cell_type": "markdown",
   "id": "ecd78b64",
   "metadata": {},
   "source": [
    "## Decision Tree "
   ]
  },
  {
   "cell_type": "markdown",
   "id": "0d17cfac",
   "metadata": {},
   "source": [
    "### GridSearchCV Technique to Tune Hyper-Parameters"
   ]
  },
  {
   "cell_type": "code",
   "execution_count": 23,
   "id": "73505770",
   "metadata": {},
   "outputs": [
    {
     "name": "stdout",
     "output_type": "stream",
     "text": [
      "{'criterion': 'friedman_mse', 'max_depth': 9}\n",
      "0.9930273357522481\n"
     ]
    }
   ],
   "source": [
    "#Exhaustive search over specified parameter values for an estimator.\n",
    "decision_tree_model=DecisionTreeRegressor()\n",
    "\n",
    "grid_search=GridSearchCV(estimator=decision_tree_model, \n",
    "                         param_grid={'criterion':[\"mse\", \"friedman_mse\", \"mae\", \"poisson\"],\n",
    "                                     'max_depth':[2,3,4,5,6,7,8,9,10]}, \n",
    "                         cv=5)\n",
    "\n",
    "grid_search.fit(X,y)\n",
    "print(grid_search.best_params_)\n",
    "print(grid_search.best_score_)"
   ]
  },
  {
   "cell_type": "code",
   "execution_count": 24,
   "id": "c13cc094",
   "metadata": {},
   "outputs": [],
   "source": [
    "def run_Decision_Tree(X_train, X_test, y_train, y_test):\n",
    "    dt_regressor=DecisionTreeRegressor(criterion= 'mse', max_depth= 9, random_state=10)\n",
    "    dt_regressor.fit(X_train, y_train)\n",
    "    \n",
    "    y_train_pred=dt_regressor.predict(X_train)\n",
    "    y_test_pred=dt_regressor.predict(X_test)\n",
    "    \n",
    "    print('R-Square Score for Train data:', round(r2_score(y_train, y_train_pred),4))\n",
    "    print('Mean Square Error for Train data::', round(mean_squared_error(y_train, y_train_pred),4))\n",
    "    print('R-Square Score for Train data:', round(r2_score(y_test, y_test_pred),4))\n",
    "    print('Mean Square Error for Train data::', round(mean_squared_error(y_test, y_test_pred),4))"
   ]
  },
  {
   "cell_type": "code",
   "execution_count": 25,
   "id": "3d614963",
   "metadata": {},
   "outputs": [
    {
     "name": "stdout",
     "output_type": "stream",
     "text": [
      "R-Square Score for Train data: 0.998\n",
      "Mean Square Error for Train data:: 6.9938\n",
      "R-Square Score for Train data: 0.9921\n",
      "Mean Square Error for Train data:: 27.759\n",
      "Wall time: 111 ms\n"
     ]
    }
   ],
   "source": [
    "%%time\n",
    "run_Decision_Tree(X_train, X_test, y_train, y_test)"
   ]
  },
  {
   "cell_type": "markdown",
   "id": "08e28bd3",
   "metadata": {},
   "source": [
    "## * Random Forest"
   ]
  },
  {
   "cell_type": "code",
   "execution_count": 26,
   "id": "4552ebf4",
   "metadata": {},
   "outputs": [],
   "source": [
    "def run_Random_Forest(X_train, X_test, y_train, y_test):\n",
    "    rf_regressor=RandomForestRegressor(random_state=10)\n",
    "    rf_regressor.fit(X_train, y_train)\n",
    "    \n",
    "    y_train_pred=rf_regressor.predict(X_train)\n",
    "    y_test_pred=rf_regressor.predict(X_test)\n",
    "    \n",
    "    print('R-Square Score for Train data:', round(r2_score(y_train, y_train_pred),4))\n",
    "    print('Mean Square Error for Train data::', round(mean_squared_error(y_train, y_train_pred),4))\n",
    "    print('R-Square Score for Train data:', round(r2_score(y_test, y_test_pred),4))\n",
    "    print('Mean Square Error for Train data::', round(mean_squared_error(y_test, y_test_pred),4))"
   ]
  },
  {
   "cell_type": "code",
   "execution_count": 27,
   "id": "963ca075",
   "metadata": {},
   "outputs": [
    {
     "name": "stderr",
     "output_type": "stream",
     "text": [
      "<ipython-input-26-5f7b5c9e2455>:3: DataConversionWarning: A column-vector y was passed when a 1d array was expected. Please change the shape of y to (n_samples,), for example using ravel().\n",
      "  rf_regressor.fit(X_train, y_train)\n"
     ]
    },
    {
     "name": "stdout",
     "output_type": "stream",
     "text": [
      "R-Square Score for Train data: 0.9987\n",
      "Mean Square Error for Train data:: 4.4385\n",
      "R-Square Score for Train data: 0.9952\n",
      "Mean Square Error for Train data:: 16.7666\n",
      "Wall time: 2.09 s\n"
     ]
    }
   ],
   "source": [
    "%%time\n",
    "run_Random_Forest(X_train, X_test, y_train, y_test)"
   ]
  },
  {
   "cell_type": "markdown",
   "id": "e3a013e4",
   "metadata": {},
   "source": [
    "## * Gradient Boosting"
   ]
  },
  {
   "cell_type": "code",
   "execution_count": 28,
   "id": "b6a76044",
   "metadata": {},
   "outputs": [],
   "source": [
    "def run_Gradient_Boosting(X_train, X_test, y_train, y_test):\n",
    "    gb_regressor=GradientBoostingRegressor(random_state=10)\n",
    "    gb_regressor.fit(X_train, y_train)\n",
    "    \n",
    "    y_train_pred=gb_regressor.predict(X_train)\n",
    "    y_test_pred=gb_regressor.predict(X_test)\n",
    "    \n",
    "    print('R-Square Score for Train data:', round(r2_score(y_train, y_train_pred),4))\n",
    "    print('Mean Square Error for Train data::', round(mean_squared_error(y_train, y_train_pred),4))\n",
    "    print('R-Square Score for Train data:', round(r2_score(y_test, y_test_pred),4))\n",
    "    print('Mean Square Error for Train data::', round(mean_squared_error(y_test, y_test_pred),4))"
   ]
  },
  {
   "cell_type": "code",
   "execution_count": 29,
   "id": "65b049a9",
   "metadata": {},
   "outputs": [
    {
     "name": "stderr",
     "output_type": "stream",
     "text": [
      "C:\\Users\\santh\\anaconda3\\lib\\site-packages\\sklearn\\utils\\validation.py:63: DataConversionWarning: A column-vector y was passed when a 1d array was expected. Please change the shape of y to (n_samples, ), for example using ravel().\n",
      "  return f(*args, **kwargs)\n"
     ]
    },
    {
     "name": "stdout",
     "output_type": "stream",
     "text": [
      "R-Square Score for Train data: 0.9964\n",
      "Mean Square Error for Train data:: 12.1697\n",
      "R-Square Score for Train data: 0.9952\n",
      "Mean Square Error for Train data:: 16.6851\n",
      "Wall time: 644 ms\n"
     ]
    }
   ],
   "source": [
    "%%time\n",
    "run_Gradient_Boosting(X_train, X_test, y_train, y_test)"
   ]
  },
  {
   "cell_type": "markdown",
   "id": "0358eb3f",
   "metadata": {},
   "source": [
    "## * Xtreme Gradient Boosting"
   ]
  },
  {
   "cell_type": "code",
   "execution_count": 30,
   "id": "41e4161a",
   "metadata": {},
   "outputs": [],
   "source": [
    "def run_Xtra_Gradient_Boosting(X_train, X_test, y_train, y_test):\n",
    "    xgb_regressor=xgb.XGBRegressor(random_state=10)\n",
    "    xgb_regressor.fit(X_train, y_train)\n",
    "    \n",
    "    y_train_pred=xgb_regressor.predict(X_train)\n",
    "    y_test_pred=xgb_regressor.predict(X_test)\n",
    "    \n",
    "    print('R-Square Score for Train data:', round(r2_score(y_train, y_train_pred),4))\n",
    "    print('Mean Square Error for Train data::', round(mean_squared_error(y_train, y_train_pred),4))\n",
    "    print('R-Square Score for Train data:', round(r2_score(y_test, y_test_pred),4))\n",
    "    print('Mean Square Error for Train data::', round(mean_squared_error(y_test, y_test_pred),4))"
   ]
  },
  {
   "cell_type": "code",
   "execution_count": 31,
   "id": "047c7460",
   "metadata": {},
   "outputs": [
    {
     "name": "stdout",
     "output_type": "stream",
     "text": [
      "R-Square Score for Train data: 0.9985\n",
      "Mean Square Error for Train data:: 5.1915\n",
      "R-Square Score for Train data: 0.9962\n",
      "Mean Square Error for Train data:: 13.4547\n",
      "Wall time: 894 ms\n"
     ]
    }
   ],
   "source": [
    "%%time\n",
    "run_Xtra_Gradient_Boosting(X_train, X_test, y_train, y_test)"
   ]
  },
  {
   "cell_type": "markdown",
   "id": "c479e159",
   "metadata": {},
   "source": [
    "## * Support Vector Machine"
   ]
  },
  {
   "cell_type": "code",
   "execution_count": 32,
   "id": "4670b517",
   "metadata": {},
   "outputs": [],
   "source": [
    "def run_Support_Vector_Machine(X_train, X_test, y_train, y_test):\n",
    "    svm_regressor=SVR(C=1.0, epsilon=0.1)\n",
    "    svm_regressor.fit(X_train, y_train)\n",
    "    \n",
    "    y_train_pred=svm_regressor.predict(X_train)\n",
    "    y_test_pred=svm_regressor.predict(X_test)\n",
    "    \n",
    "    print('R-Square Score for Train data:', round(r2_score(y_train, y_train_pred),4))\n",
    "    print('Mean Square Error for Train data::', round(mean_squared_error(y_train, y_train_pred),4))\n",
    "    print('R-Square Score for Train data:', round(r2_score(y_test, y_test_pred),4))\n",
    "    print('Mean Square Error for Train data::', round(mean_squared_error(y_test, y_test_pred),4))"
   ]
  },
  {
   "cell_type": "code",
   "execution_count": 33,
   "id": "d68dde42",
   "metadata": {},
   "outputs": [
    {
     "name": "stderr",
     "output_type": "stream",
     "text": [
      "C:\\Users\\santh\\anaconda3\\lib\\site-packages\\sklearn\\utils\\validation.py:63: DataConversionWarning: A column-vector y was passed when a 1d array was expected. Please change the shape of y to (n_samples, ), for example using ravel().\n",
      "  return f(*args, **kwargs)\n"
     ]
    },
    {
     "name": "stdout",
     "output_type": "stream",
     "text": [
      "R-Square Score for Train data: 0.9094\n",
      "Mean Square Error for Train data:: 309.7146\n",
      "R-Square Score for Train data: 0.9058\n",
      "Mean Square Error for Train data:: 330.5675\n",
      "Wall time: 10.5 s\n"
     ]
    }
   ],
   "source": [
    "%%time\n",
    "run_Support_Vector_Machine(X_train, X_test, y_train, y_test)"
   ]
  },
  {
   "cell_type": "markdown",
   "id": "96bb2fa4",
   "metadata": {},
   "source": [
    "**Best Model**: Xtreme Gradient Boosting"
   ]
  },
  {
   "cell_type": "markdown",
   "id": "211134af",
   "metadata": {},
   "source": [
    "## 6. Model Deployment"
   ]
  },
  {
   "cell_type": "code",
   "execution_count": 34,
   "id": "b76c628a",
   "metadata": {},
   "outputs": [
    {
     "name": "stderr",
     "output_type": "stream",
     "text": [
      "<ipython-input-34-46f8c2ad6180>:2: DataConversionWarning: A column-vector y was passed when a 1d array was expected. Please change the shape of y to (n_samples,), for example using ravel().\n",
      "  rf_regressor.fit(X_train, y_train)\n"
     ]
    },
    {
     "data": {
      "text/plain": [
       "RandomForestRegressor(random_state=10)"
      ]
     },
     "execution_count": 34,
     "metadata": {},
     "output_type": "execute_result"
    }
   ],
   "source": [
    "rf_regressor=RandomForestRegressor(random_state=10)\n",
    "rf_regressor.fit(X_train, y_train)"
   ]
  },
  {
   "cell_type": "code",
   "execution_count": 35,
   "id": "667d5d1d",
   "metadata": {},
   "outputs": [],
   "source": [
    "# Deploying xgb model to pickle file\n",
    "dump(rf_regressor,open('model.pkl','wb'))"
   ]
  },
  {
   "cell_type": "code",
   "execution_count": 36,
   "id": "c3afe1d7",
   "metadata": {},
   "outputs": [],
   "source": [
    "# Loading the pickle file\n",
    "loaded_model=load(open('model.pkl','rb'))"
   ]
  },
  {
   "cell_type": "code",
   "execution_count": 37,
   "id": "a76a9549",
   "metadata": {},
   "outputs": [],
   "source": [
    "y_pred=loaded_model.predict(X_test)"
   ]
  },
  {
   "cell_type": "code",
   "execution_count": 38,
   "id": "ba640643",
   "metadata": {},
   "outputs": [
    {
     "data": {
      "text/plain": [
       "0.9952228231852877"
      ]
     },
     "execution_count": 38,
     "metadata": {},
     "output_type": "execute_result"
    }
   ],
   "source": [
    "r2_score(y_test, y_pred)"
   ]
  },
  {
   "cell_type": "markdown",
   "id": "463ad390",
   "metadata": {},
   "source": [
    "## 7. User Interface "
   ]
  },
  {
   "cell_type": "code",
   "execution_count": 39,
   "id": "fde3e967",
   "metadata": {},
   "outputs": [
    {
     "data": {
      "text/html": [
       "<div>\n",
       "<style scoped>\n",
       "    .dataframe tbody tr th:only-of-type {\n",
       "        vertical-align: middle;\n",
       "    }\n",
       "\n",
       "    .dataframe tbody tr th {\n",
       "        vertical-align: top;\n",
       "    }\n",
       "\n",
       "    .dataframe thead th {\n",
       "        text-align: right;\n",
       "    }\n",
       "</style>\n",
       "<table border=\"1\" class=\"dataframe\">\n",
       "  <thead>\n",
       "    <tr style=\"text-align: right;\">\n",
       "      <th></th>\n",
       "      <th>vehicle_class</th>\n",
       "      <th>engine_size</th>\n",
       "      <th>cylinders</th>\n",
       "      <th>transmission</th>\n",
       "      <th>fuel_type</th>\n",
       "      <th>fuel_consumption_comb</th>\n",
       "      <th>co2_emissions</th>\n",
       "    </tr>\n",
       "  </thead>\n",
       "  <tbody>\n",
       "    <tr>\n",
       "      <th>0</th>\n",
       "      <td>compact</td>\n",
       "      <td>2.0</td>\n",
       "      <td>4</td>\n",
       "      <td>Automatic with select shift</td>\n",
       "      <td>Premium gasoline</td>\n",
       "      <td>8.5</td>\n",
       "      <td>196.0</td>\n",
       "    </tr>\n",
       "    <tr>\n",
       "      <th>1</th>\n",
       "      <td>compact</td>\n",
       "      <td>2.4</td>\n",
       "      <td>4</td>\n",
       "      <td>Manual</td>\n",
       "      <td>Premium gasoline</td>\n",
       "      <td>9.6</td>\n",
       "      <td>221.0</td>\n",
       "    </tr>\n",
       "    <tr>\n",
       "      <th>2</th>\n",
       "      <td>compact</td>\n",
       "      <td>1.5</td>\n",
       "      <td>4</td>\n",
       "      <td>Continuously variable</td>\n",
       "      <td>Premium gasoline</td>\n",
       "      <td>5.9</td>\n",
       "      <td>136.0</td>\n",
       "    </tr>\n",
       "    <tr>\n",
       "      <th>3</th>\n",
       "      <td>suv - small</td>\n",
       "      <td>3.5</td>\n",
       "      <td>6</td>\n",
       "      <td>Automatic with select shift</td>\n",
       "      <td>Premium gasoline</td>\n",
       "      <td>11.1</td>\n",
       "      <td>255.0</td>\n",
       "    </tr>\n",
       "    <tr>\n",
       "      <th>4</th>\n",
       "      <td>suv - small</td>\n",
       "      <td>3.5</td>\n",
       "      <td>6</td>\n",
       "      <td>Automatic with select shift</td>\n",
       "      <td>Premium gasoline</td>\n",
       "      <td>10.6</td>\n",
       "      <td>244.0</td>\n",
       "    </tr>\n",
       "  </tbody>\n",
       "</table>\n",
       "</div>"
      ],
      "text/plain": [
       "  vehicle_class  engine_size  cylinders                 transmission  \\\n",
       "0       compact          2.0          4  Automatic with select shift   \n",
       "1       compact          2.4          4                       Manual   \n",
       "2       compact          1.5          4        Continuously variable   \n",
       "3   suv - small          3.5          6  Automatic with select shift   \n",
       "4   suv - small          3.5          6  Automatic with select shift   \n",
       "\n",
       "          fuel_type  fuel_consumption_comb  co2_emissions  \n",
       "0  Premium gasoline                    8.5          196.0  \n",
       "1  Premium gasoline                    9.6          221.0  \n",
       "2  Premium gasoline                    5.9          136.0  \n",
       "3  Premium gasoline                   11.1          255.0  \n",
       "4  Premium gasoline                   10.6          244.0  "
      ]
     },
     "execution_count": 39,
     "metadata": {},
     "output_type": "execute_result"
    }
   ],
   "source": [
    "df=pd.read_csv('Final_Emission_Data.csv')\n",
    "df.head()"
   ]
  },
  {
   "cell_type": "code",
   "execution_count": 40,
   "id": "c56ef13d",
   "metadata": {},
   "outputs": [
    {
     "name": "stdout",
     "output_type": "stream",
     "text": [
      "Enter vehicle class :compact\n",
      "Enter engine size :2.0\n",
      "Enter Number of cylinders :4.0\n",
      "Enter Transmission type :Automatic with select shift\n",
      "Enter Fuel type :Premium gasoline\n",
      "Enter the combined fuel consumption rating (55% city, 45% highway), in L/100 km :8.5\n",
      "The Co2 emmitted from your car is [198.35979365] in grams per kilometer.\n"
     ]
    }
   ],
   "source": [
    "i1 = input(\"Enter vehicle class :\")\n",
    "i2 = float(input(\"Enter engine size :\"))\n",
    "i3 = float(input(\"Enter Number of cylinders :\"))\n",
    "i4 = input(\"Enter Transmission type :\")\n",
    "i5 = input(\"Enter Fuel type :\")\n",
    "i6 = float(input(\"Enter the combined fuel consumption rating (55% city, 45% highway), in L/100 km :\"))\n",
    "\n",
    "input_data = pd.DataFrame({'vehicle_class':i1,'engine_size':i2,'cylinders':i3,\n",
    "                           'transmission':i4,'fuel_type':i5,\n",
    "                           'fuel_consumption_comb':i6},index=[1])\n",
    "\n",
    "input_data['vehicle_class']  =input_data['vehicle_class'].map({'compact':0.0,'full-size':1.0,'mid-size':2.0,'minicompact':3.0,'minivan':4.0,\n",
    "                                                               'pickup truck - small':5.0,'pickup truck - standard':6.0,'special purpose vehicle':7.0,\n",
    "                                                               'station wagon - mid-size':8.0,'station wagon - small':9.0,'subcompact':10.0,\n",
    "                                                               'suv - small':11.0, 'suv - standard':12.0,'two-seater':13.0,'van - cargo':14.0,\n",
    "                                                               'van - passenger':15.0})\n",
    "input_data['transmission']  =input_data['transmission'].map({'Automatic':0.0,'Automated manual':1.0,'Automatic with select shift':2.0,'Continuously variable':3.0,'Manual':4.0})\n",
    "input_data['fuel_type']  =input_data['fuel_type'].map({'Diesel':0.0,'Ethanol (E85)':1.0,'Natural gas':2.0,'Premium gasoline':3.0,'Regular gasoline':4.0})\n",
    "\n",
    "pred =loaded_model.predict(input_data)\n",
    "print(\"The Co2 emmitted from your car is {} in grams per kilometer.\".format(pred))"
   ]
  }
 ],
 "metadata": {
  "kernelspec": {
   "display_name": "Python 3",
   "language": "python",
   "name": "python3"
  },
  "language_info": {
   "codemirror_mode": {
    "name": "ipython",
    "version": 3
   },
   "file_extension": ".py",
   "mimetype": "text/x-python",
   "name": "python",
   "nbconvert_exporter": "python",
   "pygments_lexer": "ipython3",
   "version": "3.8.8"
  }
 },
 "nbformat": 4,
 "nbformat_minor": 5
}
