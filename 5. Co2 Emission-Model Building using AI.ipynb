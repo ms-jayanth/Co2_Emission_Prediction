{
 "cells": [
  {
   "cell_type": "markdown",
   "id": "1e5db16d",
   "metadata": {},
   "source": [
    "# Co2 Emission"
   ]
  },
  {
   "cell_type": "markdown",
   "id": "c6aa6c18",
   "metadata": {},
   "source": [
    "## Model Building using ANN"
   ]
  },
  {
   "cell_type": "markdown",
   "id": "c8f8924a",
   "metadata": {},
   "source": [
    "## 1. Import Necessary Libraries"
   ]
  },
  {
   "cell_type": "code",
   "execution_count": 1,
   "id": "73963748",
   "metadata": {},
   "outputs": [],
   "source": [
    "import pandas as pd\n",
    "import numpy as np\n",
    "\n",
    "import matplotlib.pyplot as plt\n",
    "\n",
    "from sklearn.preprocessing import StandardScaler, OrdinalEncoder\n",
    "from sklearn.model_selection import train_test_split\n",
    "\n",
    "from tensorflow import keras\n",
    "from keras.models import Sequential\n",
    "from keras.layers import Dense, Dropout\n",
    "from tensorflow.keras.models import load_model"
   ]
  },
  {
   "cell_type": "markdown",
   "id": "02069fd5",
   "metadata": {},
   "source": [
    "## 2. Load the Data"
   ]
  },
  {
   "cell_type": "code",
   "execution_count": 2,
   "id": "2b3d3702",
   "metadata": {},
   "outputs": [
    {
     "data": {
      "text/html": [
       "<div>\n",
       "<style scoped>\n",
       "    .dataframe tbody tr th:only-of-type {\n",
       "        vertical-align: middle;\n",
       "    }\n",
       "\n",
       "    .dataframe tbody tr th {\n",
       "        vertical-align: top;\n",
       "    }\n",
       "\n",
       "    .dataframe thead th {\n",
       "        text-align: right;\n",
       "    }\n",
       "</style>\n",
       "<table border=\"1\" class=\"dataframe\">\n",
       "  <thead>\n",
       "    <tr style=\"text-align: right;\">\n",
       "      <th></th>\n",
       "      <th>vehicle_class</th>\n",
       "      <th>engine_size</th>\n",
       "      <th>cylinders</th>\n",
       "      <th>transmission</th>\n",
       "      <th>fuel_type</th>\n",
       "      <th>fuel_consumption_comb</th>\n",
       "      <th>co2_emissions</th>\n",
       "    </tr>\n",
       "  </thead>\n",
       "  <tbody>\n",
       "    <tr>\n",
       "      <th>0</th>\n",
       "      <td>compact</td>\n",
       "      <td>2.0</td>\n",
       "      <td>4</td>\n",
       "      <td>Automatic with select shift</td>\n",
       "      <td>Premium gasoline</td>\n",
       "      <td>8.5</td>\n",
       "      <td>196.0</td>\n",
       "    </tr>\n",
       "    <tr>\n",
       "      <th>1</th>\n",
       "      <td>compact</td>\n",
       "      <td>2.4</td>\n",
       "      <td>4</td>\n",
       "      <td>Manual</td>\n",
       "      <td>Premium gasoline</td>\n",
       "      <td>9.6</td>\n",
       "      <td>221.0</td>\n",
       "    </tr>\n",
       "    <tr>\n",
       "      <th>2</th>\n",
       "      <td>compact</td>\n",
       "      <td>1.5</td>\n",
       "      <td>4</td>\n",
       "      <td>Continuously variable</td>\n",
       "      <td>Premium gasoline</td>\n",
       "      <td>5.9</td>\n",
       "      <td>136.0</td>\n",
       "    </tr>\n",
       "    <tr>\n",
       "      <th>3</th>\n",
       "      <td>suv - small</td>\n",
       "      <td>3.5</td>\n",
       "      <td>6</td>\n",
       "      <td>Automatic with select shift</td>\n",
       "      <td>Premium gasoline</td>\n",
       "      <td>11.1</td>\n",
       "      <td>255.0</td>\n",
       "    </tr>\n",
       "    <tr>\n",
       "      <th>4</th>\n",
       "      <td>suv - small</td>\n",
       "      <td>3.5</td>\n",
       "      <td>6</td>\n",
       "      <td>Automatic with select shift</td>\n",
       "      <td>Premium gasoline</td>\n",
       "      <td>10.6</td>\n",
       "      <td>244.0</td>\n",
       "    </tr>\n",
       "  </tbody>\n",
       "</table>\n",
       "</div>"
      ],
      "text/plain": [
       "  vehicle_class  engine_size  cylinders                 transmission  \\\n",
       "0       compact          2.0          4  Automatic with select shift   \n",
       "1       compact          2.4          4                       Manual   \n",
       "2       compact          1.5          4        Continuously variable   \n",
       "3   suv - small          3.5          6  Automatic with select shift   \n",
       "4   suv - small          3.5          6  Automatic with select shift   \n",
       "\n",
       "          fuel_type  fuel_consumption_comb  co2_emissions  \n",
       "0  Premium gasoline                    8.5          196.0  \n",
       "1  Premium gasoline                    9.6          221.0  \n",
       "2  Premium gasoline                    5.9          136.0  \n",
       "3  Premium gasoline                   11.1          255.0  \n",
       "4  Premium gasoline                   10.6          244.0  "
      ]
     },
     "execution_count": 2,
     "metadata": {},
     "output_type": "execute_result"
    }
   ],
   "source": [
    "emission_data=pd.read_csv('Final_Emission_Data.csv')\n",
    "emission_data.head()"
   ]
  },
  {
   "cell_type": "code",
   "execution_count": 3,
   "id": "85f06415",
   "metadata": {},
   "outputs": [
    {
     "data": {
      "text/html": [
       "<div>\n",
       "<style scoped>\n",
       "    .dataframe tbody tr th:only-of-type {\n",
       "        vertical-align: middle;\n",
       "    }\n",
       "\n",
       "    .dataframe tbody tr th {\n",
       "        vertical-align: top;\n",
       "    }\n",
       "\n",
       "    .dataframe thead th {\n",
       "        text-align: right;\n",
       "    }\n",
       "</style>\n",
       "<table border=\"1\" class=\"dataframe\">\n",
       "  <thead>\n",
       "    <tr style=\"text-align: right;\">\n",
       "      <th></th>\n",
       "      <th>vehicle_class</th>\n",
       "      <th>engine_size</th>\n",
       "      <th>cylinders</th>\n",
       "      <th>transmission</th>\n",
       "      <th>fuel_type</th>\n",
       "      <th>fuel_consumption_comb</th>\n",
       "      <th>co2_emissions</th>\n",
       "    </tr>\n",
       "  </thead>\n",
       "  <tbody>\n",
       "    <tr>\n",
       "      <th>0</th>\n",
       "      <td>0.0</td>\n",
       "      <td>2.0</td>\n",
       "      <td>4</td>\n",
       "      <td>2.0</td>\n",
       "      <td>3.0</td>\n",
       "      <td>8.5</td>\n",
       "      <td>196.0</td>\n",
       "    </tr>\n",
       "    <tr>\n",
       "      <th>1</th>\n",
       "      <td>0.0</td>\n",
       "      <td>2.4</td>\n",
       "      <td>4</td>\n",
       "      <td>4.0</td>\n",
       "      <td>3.0</td>\n",
       "      <td>9.6</td>\n",
       "      <td>221.0</td>\n",
       "    </tr>\n",
       "    <tr>\n",
       "      <th>2</th>\n",
       "      <td>0.0</td>\n",
       "      <td>1.5</td>\n",
       "      <td>4</td>\n",
       "      <td>3.0</td>\n",
       "      <td>3.0</td>\n",
       "      <td>5.9</td>\n",
       "      <td>136.0</td>\n",
       "    </tr>\n",
       "    <tr>\n",
       "      <th>3</th>\n",
       "      <td>11.0</td>\n",
       "      <td>3.5</td>\n",
       "      <td>6</td>\n",
       "      <td>2.0</td>\n",
       "      <td>3.0</td>\n",
       "      <td>11.1</td>\n",
       "      <td>255.0</td>\n",
       "    </tr>\n",
       "    <tr>\n",
       "      <th>4</th>\n",
       "      <td>11.0</td>\n",
       "      <td>3.5</td>\n",
       "      <td>6</td>\n",
       "      <td>2.0</td>\n",
       "      <td>3.0</td>\n",
       "      <td>10.6</td>\n",
       "      <td>244.0</td>\n",
       "    </tr>\n",
       "  </tbody>\n",
       "</table>\n",
       "</div>"
      ],
      "text/plain": [
       "   vehicle_class  engine_size  cylinders  transmission  fuel_type  \\\n",
       "0            0.0          2.0          4           2.0        3.0   \n",
       "1            0.0          2.4          4           4.0        3.0   \n",
       "2            0.0          1.5          4           3.0        3.0   \n",
       "3           11.0          3.5          6           2.0        3.0   \n",
       "4           11.0          3.5          6           2.0        3.0   \n",
       "\n",
       "   fuel_consumption_comb  co2_emissions  \n",
       "0                    8.5          196.0  \n",
       "1                    9.6          221.0  \n",
       "2                    5.9          136.0  \n",
       "3                   11.1          255.0  \n",
       "4                   10.6          244.0  "
      ]
     },
     "execution_count": 3,
     "metadata": {},
     "output_type": "execute_result"
    }
   ],
   "source": [
    "# Converting Categorical variables to ordinal\n",
    "oc = OrdinalEncoder()\n",
    "cols = ['vehicle_class','transmission','fuel_type']\n",
    "emission_data[cols] = oc.fit_transform(emission_data[cols])\n",
    "emission_data.head()"
   ]
  },
  {
   "cell_type": "markdown",
   "id": "e76e832e",
   "metadata": {},
   "source": [
    "## 3. Model Building using ANN"
   ]
  },
  {
   "cell_type": "code",
   "execution_count": 4,
   "id": "58755814",
   "metadata": {},
   "outputs": [],
   "source": [
    "X=emission_data.drop('co2_emissions', axis=1)\n",
    "y=emission_data[['co2_emissions']]"
   ]
  },
  {
   "cell_type": "code",
   "execution_count": 5,
   "id": "da1b036f",
   "metadata": {},
   "outputs": [
    {
     "data": {
      "text/plain": [
       "((5981, 6), (5981, 1))"
      ]
     },
     "execution_count": 5,
     "metadata": {},
     "output_type": "execute_result"
    }
   ],
   "source": [
    "X.shape, y.shape"
   ]
  },
  {
   "cell_type": "code",
   "execution_count": 6,
   "id": "a2f4b726",
   "metadata": {},
   "outputs": [],
   "source": [
    "X_train, X_test, y_train, y_test=train_test_split(X,y,test_size=0.2, random_state=True)"
   ]
  },
  {
   "cell_type": "code",
   "execution_count": 7,
   "id": "7b160718",
   "metadata": {},
   "outputs": [
    {
     "data": {
      "text/plain": [
       "((4784, 6), (4784, 1))"
      ]
     },
     "execution_count": 7,
     "metadata": {},
     "output_type": "execute_result"
    }
   ],
   "source": [
    "X_train.shape, y_train.shape"
   ]
  },
  {
   "cell_type": "code",
   "execution_count": 8,
   "id": "2e7ffc30",
   "metadata": {},
   "outputs": [
    {
     "data": {
      "text/plain": [
       "((1197, 6), (1197, 1))"
      ]
     },
     "execution_count": 8,
     "metadata": {},
     "output_type": "execute_result"
    }
   ],
   "source": [
    "X_test.shape, y_test.shape"
   ]
  },
  {
   "cell_type": "markdown",
   "id": "7c8e42a3",
   "metadata": {},
   "source": [
    "### 3.1 Building Model Architecture"
   ]
  },
  {
   "cell_type": "code",
   "execution_count": 9,
   "id": "b38d3c5a",
   "metadata": {},
   "outputs": [
    {
     "name": "stdout",
     "output_type": "stream",
     "text": [
      "Model: \"sequential\"\n",
      "_________________________________________________________________\n",
      " Layer (type)                Output Shape              Param #   \n",
      "=================================================================\n",
      " dense (Dense)               (None, 128)               896       \n",
      "                                                                 \n",
      " dropout (Dropout)           (None, 128)               0         \n",
      "                                                                 \n",
      " dense_1 (Dense)             (None, 64)                8256      \n",
      "                                                                 \n",
      " dropout_1 (Dropout)         (None, 64)                0         \n",
      "                                                                 \n",
      " dense_2 (Dense)             (None, 32)                2080      \n",
      "                                                                 \n",
      " dropout_2 (Dropout)         (None, 32)                0         \n",
      "                                                                 \n",
      " dense_3 (Dense)             (None, 1)                 33        \n",
      "                                                                 \n",
      "=================================================================\n",
      "Total params: 11,265\n",
      "Trainable params: 11,265\n",
      "Non-trainable params: 0\n",
      "_________________________________________________________________\n"
     ]
    }
   ],
   "source": [
    "model=Sequential()\n",
    "model.add(Dense(units=128, input_dim=6,activation='relu'))\n",
    "model.add(Dropout(0.25))\n",
    "model.add(Dense(units=64,activation='relu'))\n",
    "model.add(Dropout(0.25))\n",
    "model.add(Dense(units=32,activation='relu'))\n",
    "model.add(Dropout(0.25))\n",
    "model.add(Dense(units=1, activation='linear'))\n",
    "model.summary()"
   ]
  },
  {
   "cell_type": "markdown",
   "id": "abb31482",
   "metadata": {},
   "source": [
    "### 3.2 Model Compilation"
   ]
  },
  {
   "cell_type": "code",
   "execution_count": 10,
   "id": "e9bb430e",
   "metadata": {},
   "outputs": [],
   "source": [
    "model.compile(optimizer='rmsprop',loss='mean_squared_error',metrics='mse')"
   ]
  },
  {
   "cell_type": "markdown",
   "id": "b630fe3d",
   "metadata": {},
   "source": [
    "## 4. Model Training"
   ]
  },
  {
   "cell_type": "code",
   "execution_count": 11,
   "id": "3f176dd9",
   "metadata": {},
   "outputs": [
    {
     "name": "stdout",
     "output_type": "stream",
     "text": [
      "Epoch 1/250\n",
      "479/479 [==============================] - 3s 3ms/step - loss: 8058.4199 - mse: 8058.4199 - val_loss: 606.0037 - val_mse: 606.0037\n",
      "Epoch 2/250\n",
      "479/479 [==============================] - 1s 2ms/step - loss: 2900.5408 - mse: 2900.5408 - val_loss: 650.4436 - val_mse: 650.4435\n",
      "Epoch 3/250\n",
      "479/479 [==============================] - 1s 2ms/step - loss: 2877.4475 - mse: 2877.4475 - val_loss: 348.0547 - val_mse: 348.0547\n",
      "Epoch 4/250\n",
      "479/479 [==============================] - 1s 2ms/step - loss: 2881.2053 - mse: 2881.2053 - val_loss: 322.4798 - val_mse: 322.4798\n",
      "Epoch 5/250\n",
      "479/479 [==============================] - 1s 2ms/step - loss: 2812.5430 - mse: 2812.5425 - val_loss: 318.3491 - val_mse: 318.3491\n",
      "Epoch 6/250\n",
      "479/479 [==============================] - 1s 2ms/step - loss: 2966.3699 - mse: 2966.3701 - val_loss: 1434.9329 - val_mse: 1434.9329\n",
      "Epoch 7/250\n",
      "479/479 [==============================] - 1s 2ms/step - loss: 2715.6128 - mse: 2715.6128 - val_loss: 278.6327 - val_mse: 278.6327\n",
      "Epoch 8/250\n",
      "479/479 [==============================] - 1s 2ms/step - loss: 2701.2200 - mse: 2701.2200 - val_loss: 470.2440 - val_mse: 470.2440\n",
      "Epoch 9/250\n",
      "479/479 [==============================] - 1s 2ms/step - loss: 2678.3960 - mse: 2678.3960 - val_loss: 466.8166 - val_mse: 466.8166\n",
      "Epoch 10/250\n",
      "479/479 [==============================] - 1s 2ms/step - loss: 2660.5107 - mse: 2660.5107 - val_loss: 264.7006 - val_mse: 264.7007\n",
      "Epoch 11/250\n",
      "479/479 [==============================] - 1s 2ms/step - loss: 2764.6140 - mse: 2764.6140 - val_loss: 349.0635 - val_mse: 349.0635\n",
      "Epoch 12/250\n",
      "479/479 [==============================] - 1s 2ms/step - loss: 2619.0981 - mse: 2619.0981 - val_loss: 320.9916 - val_mse: 320.9916\n",
      "Epoch 13/250\n",
      "479/479 [==============================] - 1s 2ms/step - loss: 2620.8943 - mse: 2620.8943 - val_loss: 301.5071 - val_mse: 301.5071\n",
      "Epoch 14/250\n",
      "479/479 [==============================] - 1s 2ms/step - loss: 2776.2817 - mse: 2776.2817 - val_loss: 255.0755 - val_mse: 255.0755\n",
      "Epoch 15/250\n",
      "479/479 [==============================] - 1s 2ms/step - loss: 2586.2021 - mse: 2586.2021 - val_loss: 998.6708 - val_mse: 998.6708\n",
      "Epoch 16/250\n",
      "479/479 [==============================] - 1s 2ms/step - loss: 2485.2739 - mse: 2485.2739 - val_loss: 413.8600 - val_mse: 413.8600\n",
      "Epoch 17/250\n",
      "479/479 [==============================] - 1s 3ms/step - loss: 2574.4888 - mse: 2574.4888 - val_loss: 484.8392 - val_mse: 484.8392\n",
      "Epoch 18/250\n",
      "479/479 [==============================] - 1s 2ms/step - loss: 2614.2546 - mse: 2614.2546 - val_loss: 295.1558 - val_mse: 295.1558\n",
      "Epoch 19/250\n",
      "479/479 [==============================] - 1s 2ms/step - loss: 2617.4993 - mse: 2617.4993 - val_loss: 942.3020 - val_mse: 942.3020\n",
      "Epoch 20/250\n",
      "479/479 [==============================] - 1s 2ms/step - loss: 2623.3203 - mse: 2623.3203 - val_loss: 1119.1321 - val_mse: 1119.1320\n",
      "Epoch 21/250\n",
      "479/479 [==============================] - 1s 2ms/step - loss: 2425.7778 - mse: 2425.7778 - val_loss: 482.0306 - val_mse: 482.0306\n",
      "Epoch 22/250\n",
      "479/479 [==============================] - 1s 2ms/step - loss: 2550.2527 - mse: 2550.2527 - val_loss: 389.1218 - val_mse: 389.1218\n",
      "Epoch 23/250\n",
      "479/479 [==============================] - 1s 2ms/step - loss: 2557.4971 - mse: 2557.4971 - val_loss: 190.3151 - val_mse: 190.3151\n",
      "Epoch 24/250\n",
      "479/479 [==============================] - 1s 2ms/step - loss: 2489.1904 - mse: 2489.1904 - val_loss: 246.2121 - val_mse: 246.2121\n",
      "Epoch 25/250\n",
      "479/479 [==============================] - 1s 2ms/step - loss: 2469.0386 - mse: 2469.0386 - val_loss: 199.0542 - val_mse: 199.0542\n",
      "Epoch 26/250\n",
      "479/479 [==============================] - 1s 2ms/step - loss: 2478.1038 - mse: 2478.1038 - val_loss: 303.9198 - val_mse: 303.9198\n",
      "Epoch 27/250\n",
      "479/479 [==============================] - 1s 3ms/step - loss: 2455.8333 - mse: 2455.8333 - val_loss: 355.4074 - val_mse: 355.4074\n",
      "Epoch 28/250\n",
      "479/479 [==============================] - 1s 2ms/step - loss: 2394.4329 - mse: 2394.4329 - val_loss: 422.0974 - val_mse: 422.0974\n",
      "Epoch 29/250\n",
      "479/479 [==============================] - 1s 3ms/step - loss: 2369.2390 - mse: 2369.2390 - val_loss: 229.5561 - val_mse: 229.5561\n",
      "Epoch 30/250\n",
      "479/479 [==============================] - 1s 2ms/step - loss: 2346.4080 - mse: 2346.4080 - val_loss: 519.3220 - val_mse: 519.3220\n",
      "Epoch 31/250\n",
      "479/479 [==============================] - 1s 2ms/step - loss: 2423.5046 - mse: 2423.5046 - val_loss: 254.4462 - val_mse: 254.4462\n",
      "Epoch 32/250\n",
      "479/479 [==============================] - 1s 2ms/step - loss: 2341.0593 - mse: 2341.0593 - val_loss: 139.4391 - val_mse: 139.4391\n",
      "Epoch 33/250\n",
      "479/479 [==============================] - 1s 2ms/step - loss: 2343.9307 - mse: 2343.9307 - val_loss: 414.6328 - val_mse: 414.6328\n",
      "Epoch 34/250\n",
      "479/479 [==============================] - 1s 2ms/step - loss: 2395.3999 - mse: 2395.3999 - val_loss: 481.3436 - val_mse: 481.3436\n",
      "Epoch 35/250\n",
      "479/479 [==============================] - 1s 2ms/step - loss: 2340.8088 - mse: 2340.8088 - val_loss: 382.7555 - val_mse: 382.7555\n",
      "Epoch 36/250\n",
      "479/479 [==============================] - 1s 2ms/step - loss: 2340.4775 - mse: 2340.4775 - val_loss: 138.6102 - val_mse: 138.6102\n",
      "Epoch 37/250\n",
      "479/479 [==============================] - 1s 2ms/step - loss: 2410.2566 - mse: 2410.2566 - val_loss: 249.3496 - val_mse: 249.3496\n",
      "Epoch 38/250\n",
      "479/479 [==============================] - 1s 2ms/step - loss: 2336.6301 - mse: 2336.6301 - val_loss: 350.0392 - val_mse: 350.0392\n",
      "Epoch 39/250\n",
      "479/479 [==============================] - 1s 2ms/step - loss: 2373.0659 - mse: 2373.0659 - val_loss: 500.3649 - val_mse: 500.3649\n",
      "Epoch 40/250\n",
      "479/479 [==============================] - 1s 2ms/step - loss: 2301.3467 - mse: 2301.3467 - val_loss: 430.3923 - val_mse: 430.3923\n",
      "Epoch 41/250\n",
      "479/479 [==============================] - 1s 2ms/step - loss: 2256.8953 - mse: 2256.8953 - val_loss: 763.8300 - val_mse: 763.8300\n",
      "Epoch 42/250\n",
      "479/479 [==============================] - 1s 2ms/step - loss: 2354.4573 - mse: 2354.4573 - val_loss: 214.2118 - val_mse: 214.2118\n",
      "Epoch 43/250\n",
      "479/479 [==============================] - 1s 2ms/step - loss: 2283.6514 - mse: 2283.6514 - val_loss: 241.1136 - val_mse: 241.1136\n",
      "Epoch 44/250\n",
      "479/479 [==============================] - 1s 2ms/step - loss: 2315.8718 - mse: 2315.8718 - val_loss: 168.2364 - val_mse: 168.2364\n",
      "Epoch 45/250\n",
      "479/479 [==============================] - 1s 2ms/step - loss: 2287.2534 - mse: 2287.2534 - val_loss: 359.7958 - val_mse: 359.7958\n",
      "Epoch 46/250\n",
      "479/479 [==============================] - 1s 2ms/step - loss: 2307.4658 - mse: 2307.4658 - val_loss: 301.7698 - val_mse: 301.7698\n",
      "Epoch 47/250\n",
      "479/479 [==============================] - 1s 2ms/step - loss: 2335.0515 - mse: 2335.0515 - val_loss: 190.8782 - val_mse: 190.8782\n",
      "Epoch 48/250\n",
      "479/479 [==============================] - 1s 2ms/step - loss: 2261.4431 - mse: 2261.4431 - val_loss: 160.4735 - val_mse: 160.4735\n",
      "Epoch 49/250\n",
      "479/479 [==============================] - 1s 2ms/step - loss: 2235.9695 - mse: 2235.9697 - val_loss: 434.3835 - val_mse: 434.3835\n",
      "Epoch 50/250\n",
      "479/479 [==============================] - 1s 2ms/step - loss: 2289.2659 - mse: 2289.2659 - val_loss: 185.8231 - val_mse: 185.8231\n",
      "Epoch 51/250\n",
      "479/479 [==============================] - 1s 2ms/step - loss: 2329.8540 - mse: 2329.8540 - val_loss: 377.9819 - val_mse: 377.9819\n",
      "Epoch 52/250\n",
      "479/479 [==============================] - 1s 2ms/step - loss: 2310.9189 - mse: 2310.9189 - val_loss: 260.9207 - val_mse: 260.9207\n",
      "Epoch 53/250\n",
      "479/479 [==============================] - 1s 2ms/step - loss: 2267.0576 - mse: 2267.0576 - val_loss: 1184.7054 - val_mse: 1184.7054\n",
      "Epoch 54/250\n",
      "479/479 [==============================] - 1s 2ms/step - loss: 2335.5610 - mse: 2335.5610 - val_loss: 488.4720 - val_mse: 488.4720\n",
      "Epoch 55/250\n",
      "479/479 [==============================] - 1s 2ms/step - loss: 2228.7227 - mse: 2228.7227 - val_loss: 237.9636 - val_mse: 237.9636\n",
      "Epoch 56/250\n",
      "479/479 [==============================] - 1s 2ms/step - loss: 2215.1875 - mse: 2215.1877 - val_loss: 391.1527 - val_mse: 391.1527\n",
      "Epoch 57/250\n",
      "479/479 [==============================] - 1s 2ms/step - loss: 2298.8748 - mse: 2298.8748 - val_loss: 132.2977 - val_mse: 132.2977\n"
     ]
    },
    {
     "name": "stdout",
     "output_type": "stream",
     "text": [
      "Epoch 58/250\n",
      "479/479 [==============================] - 1s 2ms/step - loss: 2216.5742 - mse: 2216.5742 - val_loss: 168.1800 - val_mse: 168.1800\n",
      "Epoch 59/250\n",
      "479/479 [==============================] - 1s 2ms/step - loss: 2274.6702 - mse: 2274.6702 - val_loss: 818.0674 - val_mse: 818.0674\n",
      "Epoch 60/250\n",
      "479/479 [==============================] - 1s 2ms/step - loss: 2288.7200 - mse: 2288.7200 - val_loss: 273.0283 - val_mse: 273.0283\n",
      "Epoch 61/250\n",
      "479/479 [==============================] - 1s 2ms/step - loss: 2261.0598 - mse: 2261.0601 - val_loss: 191.0536 - val_mse: 191.0536\n",
      "Epoch 62/250\n",
      "479/479 [==============================] - 1s 2ms/step - loss: 2183.9568 - mse: 2183.9568 - val_loss: 151.0283 - val_mse: 151.0283\n",
      "Epoch 63/250\n",
      "479/479 [==============================] - 1s 2ms/step - loss: 2222.3010 - mse: 2222.3010 - val_loss: 135.0700 - val_mse: 135.0700\n",
      "Epoch 64/250\n",
      "479/479 [==============================] - 1s 2ms/step - loss: 2182.0024 - mse: 2182.0024 - val_loss: 368.6711 - val_mse: 368.6711\n",
      "Epoch 65/250\n",
      "479/479 [==============================] - 1s 2ms/step - loss: 2176.2332 - mse: 2176.2332 - val_loss: 135.9885 - val_mse: 135.9885\n",
      "Epoch 66/250\n",
      "479/479 [==============================] - 1s 2ms/step - loss: 2213.9717 - mse: 2213.9717 - val_loss: 1379.2256 - val_mse: 1379.2256\n",
      "Epoch 67/250\n",
      "479/479 [==============================] - 1s 2ms/step - loss: 2141.6313 - mse: 2141.6313 - val_loss: 816.6006 - val_mse: 816.6006\n",
      "Epoch 68/250\n",
      "479/479 [==============================] - 1s 2ms/step - loss: 2266.5786 - mse: 2266.5786 - val_loss: 159.9116 - val_mse: 159.9116\n",
      "Epoch 69/250\n",
      "479/479 [==============================] - 1s 2ms/step - loss: 2221.3350 - mse: 2221.3350 - val_loss: 188.2893 - val_mse: 188.2893\n",
      "Epoch 70/250\n",
      "479/479 [==============================] - 1s 2ms/step - loss: 2197.2554 - mse: 2197.2554 - val_loss: 203.3161 - val_mse: 203.3161\n",
      "Epoch 71/250\n",
      "479/479 [==============================] - 1s 2ms/step - loss: 2216.1592 - mse: 2216.1592 - val_loss: 266.1035 - val_mse: 266.1035\n",
      "Epoch 72/250\n",
      "479/479 [==============================] - 1s 2ms/step - loss: 2221.9910 - mse: 2221.9910 - val_loss: 321.2033 - val_mse: 321.2033\n",
      "Epoch 73/250\n",
      "479/479 [==============================] - 1s 2ms/step - loss: 2151.1721 - mse: 2151.1721 - val_loss: 261.7114 - val_mse: 261.7114\n",
      "Epoch 74/250\n",
      "479/479 [==============================] - 1s 2ms/step - loss: 2217.8816 - mse: 2217.8816 - val_loss: 287.1849 - val_mse: 287.1849\n",
      "Epoch 75/250\n",
      "479/479 [==============================] - 1s 2ms/step - loss: 2146.4514 - mse: 2146.4514 - val_loss: 218.3600 - val_mse: 218.3600\n",
      "Epoch 76/250\n",
      "479/479 [==============================] - 1s 2ms/step - loss: 2234.7708 - mse: 2234.7708 - val_loss: 431.2765 - val_mse: 431.2765\n",
      "Epoch 77/250\n",
      "479/479 [==============================] - 1s 2ms/step - loss: 2109.3289 - mse: 2109.3289 - val_loss: 747.2596 - val_mse: 747.2596\n",
      "Epoch 78/250\n",
      "479/479 [==============================] - 1s 2ms/step - loss: 2262.4504 - mse: 2262.4504 - val_loss: 118.6395 - val_mse: 118.6395\n",
      "Epoch 79/250\n",
      "479/479 [==============================] - 1s 2ms/step - loss: 2220.1838 - mse: 2220.1838 - val_loss: 113.3643 - val_mse: 113.3643\n",
      "Epoch 80/250\n",
      "479/479 [==============================] - 1s 2ms/step - loss: 2132.6160 - mse: 2132.6160 - val_loss: 551.2567 - val_mse: 551.2567\n",
      "Epoch 81/250\n",
      "479/479 [==============================] - 1s 2ms/step - loss: 2138.5930 - mse: 2138.5930 - val_loss: 213.0326 - val_mse: 213.0326\n",
      "Epoch 82/250\n",
      "479/479 [==============================] - 1s 2ms/step - loss: 2142.0134 - mse: 2142.0134 - val_loss: 203.3813 - val_mse: 203.3813\n",
      "Epoch 83/250\n",
      "479/479 [==============================] - 1s 2ms/step - loss: 2213.7522 - mse: 2213.7522 - val_loss: 132.4445 - val_mse: 132.4445\n",
      "Epoch 84/250\n",
      "479/479 [==============================] - 1s 2ms/step - loss: 2118.6958 - mse: 2118.6958 - val_loss: 603.2177 - val_mse: 603.2177\n",
      "Epoch 85/250\n",
      "479/479 [==============================] - 1s 2ms/step - loss: 2161.6167 - mse: 2161.6167 - val_loss: 259.5662 - val_mse: 259.5662\n",
      "Epoch 86/250\n",
      "479/479 [==============================] - 1s 2ms/step - loss: 2126.9849 - mse: 2126.9849 - val_loss: 149.3666 - val_mse: 149.3666\n",
      "Epoch 87/250\n",
      "479/479 [==============================] - 1s 2ms/step - loss: 2111.6653 - mse: 2111.6653 - val_loss: 214.4441 - val_mse: 214.4441\n",
      "Epoch 88/250\n",
      "479/479 [==============================] - 1s 2ms/step - loss: 2101.6738 - mse: 2101.6738 - val_loss: 316.6281 - val_mse: 316.6281\n",
      "Epoch 89/250\n",
      "479/479 [==============================] - 1s 2ms/step - loss: 2114.4070 - mse: 2114.4070 - val_loss: 164.1544 - val_mse: 164.1544\n",
      "Epoch 90/250\n",
      "479/479 [==============================] - 1s 2ms/step - loss: 2145.2637 - mse: 2145.2637 - val_loss: 309.5048 - val_mse: 309.5048\n",
      "Epoch 91/250\n",
      "479/479 [==============================] - 1s 2ms/step - loss: 2102.4246 - mse: 2102.4246 - val_loss: 140.8814 - val_mse: 140.8814\n",
      "Epoch 92/250\n",
      "479/479 [==============================] - 1s 2ms/step - loss: 2053.4705 - mse: 2053.4705 - val_loss: 380.2149 - val_mse: 380.2150\n",
      "Epoch 93/250\n",
      "479/479 [==============================] - 1s 2ms/step - loss: 2081.4592 - mse: 2081.4592 - val_loss: 172.3121 - val_mse: 172.3121\n",
      "Epoch 94/250\n",
      "479/479 [==============================] - 1s 2ms/step - loss: 2066.9907 - mse: 2066.9907 - val_loss: 214.5458 - val_mse: 214.5458\n",
      "Epoch 95/250\n",
      "479/479 [==============================] - 1s 2ms/step - loss: 2137.1633 - mse: 2137.1631 - val_loss: 267.0080 - val_mse: 267.0080\n",
      "Epoch 96/250\n",
      "479/479 [==============================] - 1s 2ms/step - loss: 2131.4387 - mse: 2131.4387 - val_loss: 1352.2937 - val_mse: 1352.2937\n",
      "Epoch 97/250\n",
      "479/479 [==============================] - 1s 2ms/step - loss: 2142.2676 - mse: 2142.2676 - val_loss: 179.0063 - val_mse: 179.0063\n",
      "Epoch 98/250\n",
      "479/479 [==============================] - 1s 2ms/step - loss: 2101.9507 - mse: 2101.9507 - val_loss: 235.3314 - val_mse: 235.3314\n",
      "Epoch 99/250\n",
      "479/479 [==============================] - 1s 2ms/step - loss: 2127.7429 - mse: 2127.7432 - val_loss: 259.4608 - val_mse: 259.4608\n",
      "Epoch 100/250\n",
      "479/479 [==============================] - 1s 2ms/step - loss: 2107.3311 - mse: 2107.3311 - val_loss: 118.2550 - val_mse: 118.2550\n",
      "Epoch 101/250\n",
      "479/479 [==============================] - 1s 2ms/step - loss: 2089.0671 - mse: 2089.0674 - val_loss: 116.1112 - val_mse: 116.1112\n",
      "Epoch 102/250\n",
      "479/479 [==============================] - 1s 2ms/step - loss: 2110.1489 - mse: 2110.1489 - val_loss: 290.5952 - val_mse: 290.5952\n",
      "Epoch 103/250\n",
      "479/479 [==============================] - 1s 2ms/step - loss: 2039.4709 - mse: 2039.4709 - val_loss: 654.2375 - val_mse: 654.2375\n",
      "Epoch 104/250\n",
      "479/479 [==============================] - 1s 2ms/step - loss: 2114.6118 - mse: 2114.6118 - val_loss: 366.6536 - val_mse: 366.6536\n",
      "Epoch 105/250\n",
      "479/479 [==============================] - 1s 2ms/step - loss: 2086.8169 - mse: 2086.8169 - val_loss: 201.3771 - val_mse: 201.3771\n",
      "Epoch 106/250\n",
      "479/479 [==============================] - 1s 2ms/step - loss: 2058.4746 - mse: 2058.4746 - val_loss: 463.1711 - val_mse: 463.1711\n",
      "Epoch 107/250\n",
      "479/479 [==============================] - 1s 2ms/step - loss: 2160.4231 - mse: 2160.4229 - val_loss: 128.0578 - val_mse: 128.0578\n",
      "Epoch 108/250\n",
      "479/479 [==============================] - 1s 2ms/step - loss: 2113.6067 - mse: 2113.6067 - val_loss: 291.6605 - val_mse: 291.6605\n",
      "Epoch 109/250\n",
      "479/479 [==============================] - 1s 2ms/step - loss: 2048.1462 - mse: 2048.1462 - val_loss: 578.8481 - val_mse: 578.8481\n",
      "Epoch 110/250\n",
      "479/479 [==============================] - 1s 2ms/step - loss: 2060.2375 - mse: 2060.2375 - val_loss: 237.5350 - val_mse: 237.5350\n",
      "Epoch 111/250\n",
      "479/479 [==============================] - 1s 2ms/step - loss: 2048.6802 - mse: 2048.6802 - val_loss: 120.7986 - val_mse: 120.7986\n",
      "Epoch 112/250\n",
      "479/479 [==============================] - 1s 2ms/step - loss: 2060.8743 - mse: 2060.8743 - val_loss: 399.8763 - val_mse: 399.8763\n",
      "Epoch 113/250\n",
      "479/479 [==============================] - 1s 2ms/step - loss: 2011.0675 - mse: 2011.0675 - val_loss: 269.3071 - val_mse: 269.3071\n",
      "Epoch 114/250\n",
      "479/479 [==============================] - 1s 2ms/step - loss: 2035.5859 - mse: 2035.5859 - val_loss: 268.9371 - val_mse: 268.9371\n"
     ]
    },
    {
     "name": "stdout",
     "output_type": "stream",
     "text": [
      "Epoch 115/250\n",
      "479/479 [==============================] - 1s 2ms/step - loss: 2055.4399 - mse: 2055.4399 - val_loss: 131.1681 - val_mse: 131.1681\n",
      "Epoch 116/250\n",
      "479/479 [==============================] - 1s 2ms/step - loss: 2108.4917 - mse: 2108.4917 - val_loss: 173.3196 - val_mse: 173.3196\n",
      "Epoch 117/250\n",
      "479/479 [==============================] - 1s 3ms/step - loss: 2028.7312 - mse: 2028.7312 - val_loss: 128.6425 - val_mse: 128.6425\n",
      "Epoch 118/250\n",
      "479/479 [==============================] - 1s 2ms/step - loss: 2020.5375 - mse: 2020.5375 - val_loss: 320.5989 - val_mse: 320.5989\n",
      "Epoch 119/250\n",
      "479/479 [==============================] - 1s 3ms/step - loss: 1961.4935 - mse: 1961.4935 - val_loss: 124.1130 - val_mse: 124.1130\n",
      "Epoch 120/250\n",
      "479/479 [==============================] - 1s 3ms/step - loss: 1932.3217 - mse: 1932.3217 - val_loss: 448.9515 - val_mse: 448.9515\n",
      "Epoch 121/250\n",
      "479/479 [==============================] - 1s 2ms/step - loss: 1946.5352 - mse: 1946.5352 - val_loss: 212.2985 - val_mse: 212.2985\n",
      "Epoch 122/250\n",
      "479/479 [==============================] - 1s 2ms/step - loss: 1925.0564 - mse: 1925.0564 - val_loss: 177.2769 - val_mse: 177.2769\n",
      "Epoch 123/250\n",
      "479/479 [==============================] - 1s 2ms/step - loss: 2001.2166 - mse: 2001.2166 - val_loss: 162.0156 - val_mse: 162.0156\n",
      "Epoch 124/250\n",
      "479/479 [==============================] - 1s 2ms/step - loss: 1971.4531 - mse: 1971.4531 - val_loss: 163.4358 - val_mse: 163.4358\n",
      "Epoch 125/250\n",
      "479/479 [==============================] - 1s 2ms/step - loss: 1986.9299 - mse: 1986.9299 - val_loss: 109.2116 - val_mse: 109.2116\n",
      "Epoch 126/250\n",
      "479/479 [==============================] - 1s 2ms/step - loss: 2079.5676 - mse: 2079.5676 - val_loss: 126.8296 - val_mse: 126.8296\n",
      "Epoch 127/250\n",
      "479/479 [==============================] - 1s 2ms/step - loss: 2007.5918 - mse: 2007.5918 - val_loss: 357.2434 - val_mse: 357.2434\n",
      "Epoch 128/250\n",
      "479/479 [==============================] - 1s 2ms/step - loss: 1910.4735 - mse: 1910.4735 - val_loss: 134.2584 - val_mse: 134.2584\n",
      "Epoch 129/250\n",
      "479/479 [==============================] - 1s 2ms/step - loss: 1918.8269 - mse: 1918.8269 - val_loss: 201.9315 - val_mse: 201.9315\n",
      "Epoch 130/250\n",
      "479/479 [==============================] - 1s 2ms/step - loss: 1944.4393 - mse: 1944.4393 - val_loss: 756.9971 - val_mse: 756.9971\n",
      "Epoch 131/250\n",
      "479/479 [==============================] - 1s 2ms/step - loss: 1986.7482 - mse: 1986.7485 - val_loss: 125.3347 - val_mse: 125.3347\n",
      "Epoch 132/250\n",
      "479/479 [==============================] - 1s 2ms/step - loss: 2001.6965 - mse: 2001.6965 - val_loss: 99.4446 - val_mse: 99.4446\n",
      "Epoch 133/250\n",
      "479/479 [==============================] - 1s 2ms/step - loss: 1932.9158 - mse: 1932.9158 - val_loss: 130.8829 - val_mse: 130.8829\n",
      "Epoch 134/250\n",
      "479/479 [==============================] - 1s 2ms/step - loss: 1926.8353 - mse: 1926.8353 - val_loss: 259.7784 - val_mse: 259.7784\n",
      "Epoch 135/250\n",
      "479/479 [==============================] - 1s 2ms/step - loss: 2023.9856 - mse: 2023.9856 - val_loss: 265.5142 - val_mse: 265.5142\n",
      "Epoch 136/250\n",
      "479/479 [==============================] - 1s 2ms/step - loss: 1905.6227 - mse: 1905.6227 - val_loss: 245.4792 - val_mse: 245.4792\n",
      "Epoch 137/250\n",
      "479/479 [==============================] - 1s 2ms/step - loss: 1933.6188 - mse: 1933.6188 - val_loss: 891.9179 - val_mse: 891.9179\n",
      "Epoch 138/250\n",
      "479/479 [==============================] - 1s 2ms/step - loss: 1880.6233 - mse: 1880.6233 - val_loss: 137.3647 - val_mse: 137.3647\n",
      "Epoch 139/250\n",
      "479/479 [==============================] - 1s 2ms/step - loss: 1981.8390 - mse: 1981.8390 - val_loss: 261.0635 - val_mse: 261.0635\n",
      "Epoch 140/250\n",
      "479/479 [==============================] - 1s 2ms/step - loss: 1952.5240 - mse: 1952.5240 - val_loss: 106.2134 - val_mse: 106.2134\n",
      "Epoch 141/250\n",
      "479/479 [==============================] - 1s 2ms/step - loss: 1939.9166 - mse: 1939.9166 - val_loss: 119.5447 - val_mse: 119.5447\n",
      "Epoch 142/250\n",
      "479/479 [==============================] - 1s 2ms/step - loss: 1988.2271 - mse: 1988.2271 - val_loss: 734.9944 - val_mse: 734.9944\n",
      "Epoch 143/250\n",
      "479/479 [==============================] - 1s 2ms/step - loss: 1983.7858 - mse: 1983.7858 - val_loss: 125.4668 - val_mse: 125.4668\n",
      "Epoch 144/250\n",
      "479/479 [==============================] - 1s 2ms/step - loss: 1936.0933 - mse: 1936.0933 - val_loss: 127.5235 - val_mse: 127.5235\n",
      "Epoch 145/250\n",
      "479/479 [==============================] - 1s 2ms/step - loss: 1815.2444 - mse: 1815.2444 - val_loss: 463.8711 - val_mse: 463.8711\n",
      "Epoch 146/250\n",
      "479/479 [==============================] - 1s 2ms/step - loss: 1914.8412 - mse: 1914.8412 - val_loss: 359.3321 - val_mse: 359.3321\n",
      "Epoch 147/250\n",
      "479/479 [==============================] - 1s 2ms/step - loss: 1914.0583 - mse: 1914.0583 - val_loss: 364.1034 - val_mse: 364.1034\n",
      "Epoch 148/250\n",
      "479/479 [==============================] - 1s 2ms/step - loss: 1911.7467 - mse: 1911.7467 - val_loss: 149.3488 - val_mse: 149.3488\n",
      "Epoch 149/250\n",
      "479/479 [==============================] - 1s 2ms/step - loss: 1925.3492 - mse: 1925.3492 - val_loss: 249.6493 - val_mse: 249.6493\n",
      "Epoch 150/250\n",
      "479/479 [==============================] - 1s 2ms/step - loss: 1817.8217 - mse: 1817.8217 - val_loss: 110.9205 - val_mse: 110.9205\n",
      "Epoch 151/250\n",
      "479/479 [==============================] - 1s 2ms/step - loss: 1913.6232 - mse: 1913.6232 - val_loss: 125.5427 - val_mse: 125.5427\n",
      "Epoch 152/250\n",
      "479/479 [==============================] - 1s 2ms/step - loss: 1844.7966 - mse: 1844.7966 - val_loss: 470.3655 - val_mse: 470.3655\n",
      "Epoch 153/250\n",
      "479/479 [==============================] - 1s 2ms/step - loss: 2014.4457 - mse: 2014.4457 - val_loss: 106.4460 - val_mse: 106.4460\n",
      "Epoch 154/250\n",
      "479/479 [==============================] - 1s 2ms/step - loss: 1849.5669 - mse: 1849.5669 - val_loss: 188.5264 - val_mse: 188.5264\n",
      "Epoch 155/250\n",
      "479/479 [==============================] - 1s 2ms/step - loss: 1906.3765 - mse: 1906.3765 - val_loss: 613.7758 - val_mse: 613.7758\n",
      "Epoch 156/250\n",
      "479/479 [==============================] - 1s 2ms/step - loss: 1850.9524 - mse: 1850.9524 - val_loss: 123.6498 - val_mse: 123.6498\n",
      "Epoch 157/250\n",
      "479/479 [==============================] - 1s 2ms/step - loss: 1809.0889 - mse: 1809.0889 - val_loss: 154.1061 - val_mse: 154.1061\n",
      "Epoch 158/250\n",
      "479/479 [==============================] - 1s 2ms/step - loss: 1831.5830 - mse: 1831.5830 - val_loss: 217.8364 - val_mse: 217.8364\n",
      "Epoch 159/250\n",
      "479/479 [==============================] - 1s 2ms/step - loss: 1850.0341 - mse: 1850.0341 - val_loss: 292.6852 - val_mse: 292.6852\n",
      "Epoch 160/250\n",
      "479/479 [==============================] - 1s 2ms/step - loss: 1883.0249 - mse: 1883.0249 - val_loss: 104.1057 - val_mse: 104.1057\n",
      "Epoch 161/250\n",
      "479/479 [==============================] - 1s 2ms/step - loss: 1828.2831 - mse: 1828.2831 - val_loss: 120.0025 - val_mse: 120.0025\n",
      "Epoch 162/250\n",
      "479/479 [==============================] - 1s 2ms/step - loss: 1763.3876 - mse: 1763.3876 - val_loss: 116.1285 - val_mse: 116.1285\n",
      "Epoch 163/250\n",
      "479/479 [==============================] - 1s 2ms/step - loss: 1853.7753 - mse: 1853.7753 - val_loss: 101.4245 - val_mse: 101.4245\n",
      "Epoch 164/250\n",
      "479/479 [==============================] - 1s 2ms/step - loss: 1819.5280 - mse: 1819.5280 - val_loss: 516.6186 - val_mse: 516.6186\n",
      "Epoch 165/250\n",
      "479/479 [==============================] - 1s 2ms/step - loss: 1725.6415 - mse: 1725.6415 - val_loss: 1107.2574 - val_mse: 1107.2574\n",
      "Epoch 166/250\n",
      "479/479 [==============================] - 1s 2ms/step - loss: 1747.7693 - mse: 1747.7693 - val_loss: 109.9826 - val_mse: 109.9826\n",
      "Epoch 167/250\n",
      "479/479 [==============================] - 1s 2ms/step - loss: 1860.8334 - mse: 1860.8334 - val_loss: 765.1577 - val_mse: 765.1577\n",
      "Epoch 168/250\n",
      "479/479 [==============================] - 1s 2ms/step - loss: 1842.9991 - mse: 1842.9991 - val_loss: 351.3275 - val_mse: 351.3275\n",
      "Epoch 169/250\n",
      "479/479 [==============================] - 1s 2ms/step - loss: 1792.1177 - mse: 1792.1177 - val_loss: 119.9955 - val_mse: 119.9955\n",
      "Epoch 170/250\n",
      "479/479 [==============================] - 1s 2ms/step - loss: 1827.1101 - mse: 1827.1101 - val_loss: 348.9659 - val_mse: 348.9659\n",
      "Epoch 171/250\n"
     ]
    },
    {
     "name": "stdout",
     "output_type": "stream",
     "text": [
      "479/479 [==============================] - 1s 2ms/step - loss: 1785.9640 - mse: 1785.9642 - val_loss: 332.8677 - val_mse: 332.8677\n",
      "Epoch 172/250\n",
      "479/479 [==============================] - 1s 2ms/step - loss: 1818.8894 - mse: 1818.8894 - val_loss: 175.0244 - val_mse: 175.0244\n",
      "Epoch 173/250\n",
      "479/479 [==============================] - 1s 2ms/step - loss: 1770.1796 - mse: 1770.1793 - val_loss: 132.7031 - val_mse: 132.7031\n",
      "Epoch 174/250\n",
      "479/479 [==============================] - 1s 2ms/step - loss: 1772.9214 - mse: 1772.9214 - val_loss: 119.6754 - val_mse: 119.6754\n",
      "Epoch 175/250\n",
      "479/479 [==============================] - 1s 2ms/step - loss: 1708.0637 - mse: 1708.0637 - val_loss: 95.0763 - val_mse: 95.0763\n",
      "Epoch 176/250\n",
      "479/479 [==============================] - 1s 2ms/step - loss: 1721.0026 - mse: 1721.0026 - val_loss: 303.3756 - val_mse: 303.3756\n",
      "Epoch 177/250\n",
      "479/479 [==============================] - 1s 2ms/step - loss: 1773.4034 - mse: 1773.4034 - val_loss: 381.6535 - val_mse: 381.6535\n",
      "Epoch 178/250\n",
      "479/479 [==============================] - 1s 2ms/step - loss: 1677.7358 - mse: 1677.7358 - val_loss: 115.1425 - val_mse: 115.1425\n",
      "Epoch 179/250\n",
      "479/479 [==============================] - 1s 2ms/step - loss: 1766.6027 - mse: 1766.6027 - val_loss: 523.1097 - val_mse: 523.1097\n",
      "Epoch 180/250\n",
      "479/479 [==============================] - 1s 2ms/step - loss: 1763.5127 - mse: 1763.5127 - val_loss: 154.5285 - val_mse: 154.5285\n",
      "Epoch 181/250\n",
      "479/479 [==============================] - 1s 2ms/step - loss: 1660.3408 - mse: 1660.3408 - val_loss: 135.8054 - val_mse: 135.8054\n",
      "Epoch 182/250\n",
      "479/479 [==============================] - 1s 2ms/step - loss: 1699.3256 - mse: 1699.3256 - val_loss: 232.1068 - val_mse: 232.1068\n",
      "Epoch 183/250\n",
      "479/479 [==============================] - 1s 2ms/step - loss: 1739.6244 - mse: 1739.6244 - val_loss: 112.3292 - val_mse: 112.3292\n",
      "Epoch 184/250\n",
      "479/479 [==============================] - 1s 2ms/step - loss: 1676.9236 - mse: 1676.9236 - val_loss: 675.2352 - val_mse: 675.2352\n",
      "Epoch 185/250\n",
      "479/479 [==============================] - 1s 2ms/step - loss: 1660.5520 - mse: 1660.5520 - val_loss: 110.2485 - val_mse: 110.2485\n",
      "Epoch 186/250\n",
      "479/479 [==============================] - 1s 2ms/step - loss: 1692.9354 - mse: 1692.9354 - val_loss: 163.7235 - val_mse: 163.7235\n",
      "Epoch 187/250\n",
      "479/479 [==============================] - 1s 2ms/step - loss: 1716.9437 - mse: 1716.9437 - val_loss: 93.5946 - val_mse: 93.5946\n",
      "Epoch 188/250\n",
      "479/479 [==============================] - 1s 2ms/step - loss: 1714.5465 - mse: 1714.5465 - val_loss: 772.6959 - val_mse: 772.6959\n",
      "Epoch 189/250\n",
      "479/479 [==============================] - 1s 2ms/step - loss: 1668.5034 - mse: 1668.5034 - val_loss: 137.8885 - val_mse: 137.8885\n",
      "Epoch 190/250\n",
      "479/479 [==============================] - 1s 2ms/step - loss: 1656.7405 - mse: 1656.7405 - val_loss: 279.5208 - val_mse: 279.5208\n",
      "Epoch 191/250\n",
      "479/479 [==============================] - 1s 2ms/step - loss: 1663.2351 - mse: 1663.2351 - val_loss: 181.3849 - val_mse: 181.3849\n",
      "Epoch 192/250\n",
      "479/479 [==============================] - 1s 3ms/step - loss: 1745.7981 - mse: 1745.7981 - val_loss: 403.1132 - val_mse: 403.1132\n",
      "Epoch 193/250\n",
      "479/479 [==============================] - 1s 3ms/step - loss: 1640.9028 - mse: 1640.9028 - val_loss: 749.5979 - val_mse: 749.5979\n",
      "Epoch 194/250\n",
      "479/479 [==============================] - 1s 2ms/step - loss: 1621.0399 - mse: 1621.0399 - val_loss: 226.7426 - val_mse: 226.7426\n",
      "Epoch 195/250\n",
      "479/479 [==============================] - 1s 2ms/step - loss: 1635.5387 - mse: 1635.5387 - val_loss: 338.5428 - val_mse: 338.5428\n",
      "Epoch 196/250\n",
      "479/479 [==============================] - 1s 2ms/step - loss: 1670.9182 - mse: 1670.9182 - val_loss: 155.5125 - val_mse: 155.5125\n",
      "Epoch 197/250\n",
      "479/479 [==============================] - 1s 2ms/step - loss: 1619.9287 - mse: 1619.9285 - val_loss: 443.5199 - val_mse: 443.5199\n",
      "Epoch 198/250\n",
      "479/479 [==============================] - 1s 2ms/step - loss: 1655.0570 - mse: 1655.0570 - val_loss: 143.7252 - val_mse: 143.7252\n",
      "Epoch 199/250\n",
      "479/479 [==============================] - 1s 2ms/step - loss: 1584.5104 - mse: 1584.5104 - val_loss: 209.7190 - val_mse: 209.7190\n",
      "Epoch 200/250\n",
      "479/479 [==============================] - 1s 2ms/step - loss: 1605.9209 - mse: 1605.9209 - val_loss: 1108.9847 - val_mse: 1108.9847\n",
      "Epoch 201/250\n",
      "479/479 [==============================] - 1s 2ms/step - loss: 1582.1896 - mse: 1582.1896 - val_loss: 144.0741 - val_mse: 144.0741\n",
      "Epoch 202/250\n",
      "479/479 [==============================] - 1s 2ms/step - loss: 1564.6422 - mse: 1564.6422 - val_loss: 121.9122 - val_mse: 121.9122\n",
      "Epoch 203/250\n",
      "479/479 [==============================] - 1s 2ms/step - loss: 1587.1932 - mse: 1587.1934 - val_loss: 119.7556 - val_mse: 119.7556\n",
      "Epoch 204/250\n",
      "479/479 [==============================] - 1s 2ms/step - loss: 1506.6747 - mse: 1506.6747 - val_loss: 392.2837 - val_mse: 392.2837\n",
      "Epoch 205/250\n",
      "479/479 [==============================] - 1s 2ms/step - loss: 1552.1891 - mse: 1552.1891 - val_loss: 106.2409 - val_mse: 106.2409\n",
      "Epoch 206/250\n",
      "479/479 [==============================] - 1s 2ms/step - loss: 1582.5250 - mse: 1582.5250 - val_loss: 164.0034 - val_mse: 164.0034\n",
      "Epoch 207/250\n",
      "479/479 [==============================] - 1s 2ms/step - loss: 1495.4388 - mse: 1495.4388 - val_loss: 94.1534 - val_mse: 94.1534\n",
      "Epoch 208/250\n",
      "479/479 [==============================] - 1s 2ms/step - loss: 1433.0692 - mse: 1433.0692 - val_loss: 169.3763 - val_mse: 169.3763\n",
      "Epoch 209/250\n",
      "479/479 [==============================] - 1s 2ms/step - loss: 1485.5299 - mse: 1485.5299 - val_loss: 329.0392 - val_mse: 329.0392\n",
      "Epoch 210/250\n",
      "479/479 [==============================] - 1s 2ms/step - loss: 1423.3531 - mse: 1423.3531 - val_loss: 212.2371 - val_mse: 212.2371\n",
      "Epoch 211/250\n",
      "479/479 [==============================] - 1s 2ms/step - loss: 1440.9393 - mse: 1440.9393 - val_loss: 155.1200 - val_mse: 155.1200\n",
      "Epoch 212/250\n",
      "479/479 [==============================] - 1s 2ms/step - loss: 1424.3016 - mse: 1424.3016 - val_loss: 106.3072 - val_mse: 106.3072\n",
      "Epoch 213/250\n",
      "479/479 [==============================] - 1s 2ms/step - loss: 1452.9944 - mse: 1452.9943 - val_loss: 178.3901 - val_mse: 178.3901\n",
      "Epoch 214/250\n",
      "479/479 [==============================] - 1s 2ms/step - loss: 1462.4834 - mse: 1462.4834 - val_loss: 118.1362 - val_mse: 118.1362\n",
      "Epoch 215/250\n",
      "479/479 [==============================] - 1s 2ms/step - loss: 1386.9364 - mse: 1386.9364 - val_loss: 97.2587 - val_mse: 97.2587\n",
      "Epoch 216/250\n",
      "479/479 [==============================] - 1s 2ms/step - loss: 1490.4305 - mse: 1490.4305 - val_loss: 168.8528 - val_mse: 168.8528\n",
      "Epoch 217/250\n",
      "479/479 [==============================] - 1s 2ms/step - loss: 1485.9121 - mse: 1485.9121 - val_loss: 135.5005 - val_mse: 135.5005\n",
      "Epoch 218/250\n",
      "479/479 [==============================] - 1s 2ms/step - loss: 1377.9531 - mse: 1377.9531 - val_loss: 671.1614 - val_mse: 671.1614\n",
      "Epoch 219/250\n",
      "479/479 [==============================] - 1s 2ms/step - loss: 1428.7341 - mse: 1428.7341 - val_loss: 692.4576 - val_mse: 692.4575\n",
      "Epoch 220/250\n",
      "479/479 [==============================] - 1s 2ms/step - loss: 1410.6741 - mse: 1410.6741 - val_loss: 175.2785 - val_mse: 175.2785\n",
      "Epoch 221/250\n",
      "479/479 [==============================] - 1s 2ms/step - loss: 1368.2865 - mse: 1368.2865 - val_loss: 388.9551 - val_mse: 388.9551\n",
      "Epoch 222/250\n",
      "479/479 [==============================] - 1s 2ms/step - loss: 1415.6871 - mse: 1415.6871 - val_loss: 124.8969 - val_mse: 124.8969\n",
      "Epoch 223/250\n",
      "479/479 [==============================] - 1s 3ms/step - loss: 1389.4037 - mse: 1389.4037 - val_loss: 129.3016 - val_mse: 129.3016\n",
      "Epoch 224/250\n",
      "479/479 [==============================] - 1s 2ms/step - loss: 1407.4470 - mse: 1407.4470 - val_loss: 98.3414 - val_mse: 98.3414\n",
      "Epoch 225/250\n",
      "479/479 [==============================] - 1s 2ms/step - loss: 1330.5618 - mse: 1330.5618 - val_loss: 100.7524 - val_mse: 100.7524\n",
      "Epoch 226/250\n",
      "479/479 [==============================] - 1s 2ms/step - loss: 1417.7118 - mse: 1417.7118 - val_loss: 99.9363 - val_mse: 99.9363\n",
      "Epoch 227/250\n"
     ]
    },
    {
     "name": "stdout",
     "output_type": "stream",
     "text": [
      "479/479 [==============================] - 1s 2ms/step - loss: 1321.5658 - mse: 1321.5658 - val_loss: 261.3301 - val_mse: 261.3301\n",
      "Epoch 228/250\n",
      "479/479 [==============================] - 1s 2ms/step - loss: 1399.4325 - mse: 1399.4325 - val_loss: 172.8206 - val_mse: 172.8206\n",
      "Epoch 229/250\n",
      "479/479 [==============================] - 1s 2ms/step - loss: 1378.7634 - mse: 1378.7634 - val_loss: 323.8784 - val_mse: 323.8784\n",
      "Epoch 230/250\n",
      "479/479 [==============================] - 1s 2ms/step - loss: 1327.5305 - mse: 1327.5305 - val_loss: 130.4210 - val_mse: 130.4210\n",
      "Epoch 231/250\n",
      "479/479 [==============================] - 1s 2ms/step - loss: 1360.3230 - mse: 1360.3230 - val_loss: 275.0884 - val_mse: 275.0884\n",
      "Epoch 232/250\n",
      "479/479 [==============================] - 1s 2ms/step - loss: 1340.9438 - mse: 1340.9438 - val_loss: 103.3996 - val_mse: 103.3996\n",
      "Epoch 233/250\n",
      "479/479 [==============================] - 1s 2ms/step - loss: 1387.8663 - mse: 1387.8663 - val_loss: 465.3580 - val_mse: 465.3580\n",
      "Epoch 234/250\n",
      "479/479 [==============================] - 1s 2ms/step - loss: 1323.8188 - mse: 1323.8188 - val_loss: 409.8536 - val_mse: 409.8536\n",
      "Epoch 235/250\n",
      "479/479 [==============================] - 1s 2ms/step - loss: 1378.4065 - mse: 1378.4065 - val_loss: 160.5630 - val_mse: 160.5630\n",
      "Epoch 236/250\n",
      "479/479 [==============================] - 1s 2ms/step - loss: 1311.1725 - mse: 1311.1725 - val_loss: 758.5623 - val_mse: 758.5623\n",
      "Epoch 237/250\n",
      "479/479 [==============================] - 1s 2ms/step - loss: 1315.8127 - mse: 1315.8127 - val_loss: 110.3443 - val_mse: 110.3443\n",
      "Epoch 238/250\n",
      "479/479 [==============================] - 1s 2ms/step - loss: 1361.3981 - mse: 1361.3981 - val_loss: 141.6346 - val_mse: 141.6346\n",
      "Epoch 239/250\n",
      "479/479 [==============================] - 1s 2ms/step - loss: 1269.4341 - mse: 1269.4341 - val_loss: 99.2113 - val_mse: 99.2113\n",
      "Epoch 240/250\n",
      "479/479 [==============================] - 1s 2ms/step - loss: 1282.7235 - mse: 1282.7235 - val_loss: 128.9375 - val_mse: 128.9375\n",
      "Epoch 241/250\n",
      "479/479 [==============================] - 1s 2ms/step - loss: 1277.5659 - mse: 1277.5659 - val_loss: 84.4791 - val_mse: 84.4791\n",
      "Epoch 242/250\n",
      "479/479 [==============================] - 1s 2ms/step - loss: 1343.0695 - mse: 1343.0695 - val_loss: 87.7545 - val_mse: 87.7545\n",
      "Epoch 243/250\n",
      "479/479 [==============================] - 1s 2ms/step - loss: 1247.0071 - mse: 1247.0071 - val_loss: 251.3890 - val_mse: 251.3890\n",
      "Epoch 244/250\n",
      "479/479 [==============================] - 1s 2ms/step - loss: 1256.1144 - mse: 1256.1144 - val_loss: 100.4205 - val_mse: 100.4205\n",
      "Epoch 245/250\n",
      "479/479 [==============================] - 1s 2ms/step - loss: 1328.8535 - mse: 1328.8535 - val_loss: 186.2419 - val_mse: 186.2419\n",
      "Epoch 246/250\n",
      "479/479 [==============================] - 1s 2ms/step - loss: 1305.1746 - mse: 1305.1746 - val_loss: 219.7475 - val_mse: 219.7475\n",
      "Epoch 247/250\n",
      "479/479 [==============================] - 1s 2ms/step - loss: 1276.3556 - mse: 1276.3556 - val_loss: 288.2429 - val_mse: 288.2429\n",
      "Epoch 248/250\n",
      "479/479 [==============================] - 1s 2ms/step - loss: 1331.1508 - mse: 1331.1506 - val_loss: 238.0420 - val_mse: 238.0420\n",
      "Epoch 249/250\n",
      "479/479 [==============================] - 1s 2ms/step - loss: 1249.5956 - mse: 1249.5956 - val_loss: 346.2679 - val_mse: 346.2679\n",
      "Epoch 250/250\n",
      "479/479 [==============================] - 1s 2ms/step - loss: 1285.7488 - mse: 1285.7488 - val_loss: 372.7517 - val_mse: 372.7517\n"
     ]
    }
   ],
   "source": [
    "model_training=model.fit( x=X_train,y=y_train,batch_size=10,epochs=250, validation_data=(X_test, y_test))"
   ]
  },
  {
   "cell_type": "markdown",
   "id": "a1fe7dfc",
   "metadata": {},
   "source": [
    "## 5. Model Performance"
   ]
  },
  {
   "cell_type": "markdown",
   "id": "366d4eff",
   "metadata": {},
   "source": [
    "### Model Mean Squared Error Performance"
   ]
  },
  {
   "cell_type": "code",
   "execution_count": 12,
   "id": "d1324e98",
   "metadata": {},
   "outputs": [
    {
     "data": {
      "image/png": "[encoded data removed]",
      "text/plain": [
       "<Figure size 1008x432 with 1 Axes>"
      ]
     },
     "metadata": {
      "needs_background": "light"
     },
     "output_type": "display_data"
    }
   ],
   "source": [
    "plt.figure(figsize=(14,6))\n",
    "plt.plot(model_training.history['mse'], label='Train Performance')\n",
    "plt.plot(model_training.history['val_mse'], label='Test Performance')\n",
    "\n",
    "plt.xlabel('Epocks')\n",
    "plt.ylabel('MSE')\n",
    "plt.show()"
   ]
  },
  {
   "cell_type": "markdown",
   "id": "0a679c20",
   "metadata": {},
   "source": [
    "### Model Loss Performance "
   ]
  },
  {
   "cell_type": "code",
   "execution_count": 13,
   "id": "90b82cd3",
   "metadata": {},
   "outputs": [
    {
     "data": {
      "image/png": "[encoded data removed]",
      "text/plain": [
       "<Figure size 1008x432 with 1 Axes>"
      ]
     },
     "metadata": {
      "needs_background": "light"
     },
     "output_type": "display_data"
    }
   ],
   "source": [
    "plt.figure(figsize=(14,6))\n",
    "plt.plot(model_training.history['loss'], label='Train Loss')\n",
    "plt.plot(model_training.history['val_loss'], label='Test Loss')\n",
    "\n",
    "plt.xlabel('Epocks')\n",
    "plt.ylabel('Loss')\n",
    "plt.show()"
   ]
  },
  {
   "cell_type": "markdown",
   "id": "1ad1d799",
   "metadata": {},
   "source": [
    "## 6. Model Evaluation"
   ]
  },
  {
   "cell_type": "code",
   "execution_count": 14,
   "id": "bda04a23",
   "metadata": {},
   "outputs": [
    {
     "name": "stdout",
     "output_type": "stream",
     "text": [
      "150/150 [==============================] - 0s 2ms/step - loss: 376.2460 - mse: 376.2460\n"
     ]
    },
    {
     "data": {
      "text/plain": [
       "[376.2459716796875, 376.2459716796875]"
      ]
     },
     "execution_count": 14,
     "metadata": {},
     "output_type": "execute_result"
    }
   ],
   "source": [
    "model.evaluate(x=X_train, y=y_train)"
   ]
  },
  {
   "cell_type": "code",
   "execution_count": 15,
   "id": "14e41bf1",
   "metadata": {},
   "outputs": [
    {
     "name": "stdout",
     "output_type": "stream",
     "text": [
      "38/38 [==============================] - 0s 2ms/step - loss: 372.7517 - mse: 372.7517\n"
     ]
    },
    {
     "data": {
      "text/plain": [
       "[372.751708984375, 372.751708984375]"
      ]
     },
     "execution_count": 15,
     "metadata": {},
     "output_type": "execute_result"
    }
   ],
   "source": [
    "model.evaluate(x=X_test, y=y_test)"
   ]
  },
  {
   "cell_type": "markdown",
   "id": "1fba0c22",
   "metadata": {},
   "source": [
    "## 7. Model Prediction"
   ]
  },
  {
   "cell_type": "code",
   "execution_count": 16,
   "id": "a56c4b61",
   "metadata": {},
   "outputs": [],
   "source": [
    "y_pred=model.predict(X_test)"
   ]
  },
  {
   "cell_type": "code",
   "execution_count": 17,
   "id": "eb090285",
   "metadata": {},
   "outputs": [
    {
     "data": {
      "text/html": [
       "<div>\n",
       "<style scoped>\n",
       "    .dataframe tbody tr th:only-of-type {\n",
       "        vertical-align: middle;\n",
       "    }\n",
       "\n",
       "    .dataframe tbody tr th {\n",
       "        vertical-align: top;\n",
       "    }\n",
       "\n",
       "    .dataframe thead th {\n",
       "        text-align: right;\n",
       "    }\n",
       "</style>\n",
       "<table border=\"1\" class=\"dataframe\">\n",
       "  <thead>\n",
       "    <tr style=\"text-align: right;\">\n",
       "      <th></th>\n",
       "      <th>co2_emissions</th>\n",
       "    </tr>\n",
       "  </thead>\n",
       "  <tbody>\n",
       "    <tr>\n",
       "      <th>5891</th>\n",
       "      <td>167.0</td>\n",
       "    </tr>\n",
       "  </tbody>\n",
       "</table>\n",
       "</div>"
      ],
      "text/plain": [
       "      co2_emissions\n",
       "5891          167.0"
      ]
     },
     "execution_count": 17,
     "metadata": {},
     "output_type": "execute_result"
    }
   ],
   "source": [
    "y_test.iloc[[3]]"
   ]
  },
  {
   "cell_type": "code",
   "execution_count": 18,
   "id": "486da90e",
   "metadata": {},
   "outputs": [
    {
     "name": "stdout",
     "output_type": "stream",
     "text": [
      "The predicted model for index no 3 for test data is [157.30916]\n"
     ]
    }
   ],
   "source": [
    "print('The predicted model for index no 3 for test data is',y_pred[3])"
   ]
  },
  {
   "cell_type": "markdown",
   "id": "e9d0e5ec",
   "metadata": {},
   "source": [
    "## 8. Model Deployment"
   ]
  },
  {
   "cell_type": "code",
   "execution_count": 19,
   "id": "ed372b66",
   "metadata": {},
   "outputs": [],
   "source": [
    "# Deploying the intelligence\n",
    "model.save('ANN_Model.h5')"
   ]
  },
  {
   "cell_type": "code",
   "execution_count": 20,
   "id": "0960dbc6",
   "metadata": {},
   "outputs": [],
   "source": [
    "# Loading the pre-trained model\n",
    "loaded_model=load_model('ANN_Model.h5')"
   ]
  },
  {
   "cell_type": "code",
   "execution_count": 21,
   "id": "6437d445",
   "metadata": {},
   "outputs": [],
   "source": [
    "y_pred_load=loaded_model.predict(X_test)"
   ]
  },
  {
   "cell_type": "code",
   "execution_count": 22,
   "id": "0c8917a6",
   "metadata": {},
   "outputs": [
    {
     "data": {
      "text/html": [
       "<div>\n",
       "<style scoped>\n",
       "    .dataframe tbody tr th:only-of-type {\n",
       "        vertical-align: middle;\n",
       "    }\n",
       "\n",
       "    .dataframe tbody tr th {\n",
       "        vertical-align: top;\n",
       "    }\n",
       "\n",
       "    .dataframe thead th {\n",
       "        text-align: right;\n",
       "    }\n",
       "</style>\n",
       "<table border=\"1\" class=\"dataframe\">\n",
       "  <thead>\n",
       "    <tr style=\"text-align: right;\">\n",
       "      <th></th>\n",
       "      <th>co2_emissions</th>\n",
       "    </tr>\n",
       "  </thead>\n",
       "  <tbody>\n",
       "    <tr>\n",
       "      <th>4186</th>\n",
       "      <td>344.0</td>\n",
       "    </tr>\n",
       "  </tbody>\n",
       "</table>\n",
       "</div>"
      ],
      "text/plain": [
       "      co2_emissions\n",
       "4186          344.0"
      ]
     },
     "execution_count": 22,
     "metadata": {},
     "output_type": "execute_result"
    }
   ],
   "source": [
    "y_test.iloc[[5]]"
   ]
  },
  {
   "cell_type": "code",
   "execution_count": 23,
   "id": "38fc96af",
   "metadata": {},
   "outputs": [
    {
     "name": "stdout",
     "output_type": "stream",
     "text": [
      "The predicted model for index no 5 for test data is [303.5843]\n"
     ]
    }
   ],
   "source": [
    "print('The predicted model for index no 5 for test data is',y_pred_load[5])"
   ]
  },
  {
   "cell_type": "markdown",
   "id": "b87bc525",
   "metadata": {},
   "source": [
    "## 9. User Interface Platform"
   ]
  },
  {
   "cell_type": "code",
   "execution_count": 24,
   "id": "fde3e967",
   "metadata": {},
   "outputs": [
    {
     "data": {
      "text/html": [
       "<div>\n",
       "<style scoped>\n",
       "    .dataframe tbody tr th:only-of-type {\n",
       "        vertical-align: middle;\n",
       "    }\n",
       "\n",
       "    .dataframe tbody tr th {\n",
       "        vertical-align: top;\n",
       "    }\n",
       "\n",
       "    .dataframe thead th {\n",
       "        text-align: right;\n",
       "    }\n",
       "</style>\n",
       "<table border=\"1\" class=\"dataframe\">\n",
       "  <thead>\n",
       "    <tr style=\"text-align: right;\">\n",
       "      <th></th>\n",
       "      <th>vehicle_class</th>\n",
       "      <th>engine_size</th>\n",
       "      <th>cylinders</th>\n",
       "      <th>transmission</th>\n",
       "      <th>fuel_type</th>\n",
       "      <th>fuel_consumption_comb</th>\n",
       "      <th>co2_emissions</th>\n",
       "    </tr>\n",
       "  </thead>\n",
       "  <tbody>\n",
       "    <tr>\n",
       "      <th>0</th>\n",
       "      <td>compact</td>\n",
       "      <td>2.0</td>\n",
       "      <td>4</td>\n",
       "      <td>Automatic with select shift</td>\n",
       "      <td>Premium gasoline</td>\n",
       "      <td>8.5</td>\n",
       "      <td>196.0</td>\n",
       "    </tr>\n",
       "    <tr>\n",
       "      <th>1</th>\n",
       "      <td>compact</td>\n",
       "      <td>2.4</td>\n",
       "      <td>4</td>\n",
       "      <td>Manual</td>\n",
       "      <td>Premium gasoline</td>\n",
       "      <td>9.6</td>\n",
       "      <td>221.0</td>\n",
       "    </tr>\n",
       "    <tr>\n",
       "      <th>2</th>\n",
       "      <td>compact</td>\n",
       "      <td>1.5</td>\n",
       "      <td>4</td>\n",
       "      <td>Continuously variable</td>\n",
       "      <td>Premium gasoline</td>\n",
       "      <td>5.9</td>\n",
       "      <td>136.0</td>\n",
       "    </tr>\n",
       "    <tr>\n",
       "      <th>3</th>\n",
       "      <td>suv - small</td>\n",
       "      <td>3.5</td>\n",
       "      <td>6</td>\n",
       "      <td>Automatic with select shift</td>\n",
       "      <td>Premium gasoline</td>\n",
       "      <td>11.1</td>\n",
       "      <td>255.0</td>\n",
       "    </tr>\n",
       "    <tr>\n",
       "      <th>4</th>\n",
       "      <td>suv - small</td>\n",
       "      <td>3.5</td>\n",
       "      <td>6</td>\n",
       "      <td>Automatic with select shift</td>\n",
       "      <td>Premium gasoline</td>\n",
       "      <td>10.6</td>\n",
       "      <td>244.0</td>\n",
       "    </tr>\n",
       "  </tbody>\n",
       "</table>\n",
       "</div>"
      ],
      "text/plain": [
       "  vehicle_class  engine_size  cylinders                 transmission  \\\n",
       "0       compact          2.0          4  Automatic with select shift   \n",
       "1       compact          2.4          4                       Manual   \n",
       "2       compact          1.5          4        Continuously variable   \n",
       "3   suv - small          3.5          6  Automatic with select shift   \n",
       "4   suv - small          3.5          6  Automatic with select shift   \n",
       "\n",
       "          fuel_type  fuel_consumption_comb  co2_emissions  \n",
       "0  Premium gasoline                    8.5          196.0  \n",
       "1  Premium gasoline                    9.6          221.0  \n",
       "2  Premium gasoline                    5.9          136.0  \n",
       "3  Premium gasoline                   11.1          255.0  \n",
       "4  Premium gasoline                   10.6          244.0  "
      ]
     },
     "execution_count": 24,
     "metadata": {},
     "output_type": "execute_result"
    }
   ],
   "source": [
    "df=pd.read_csv('Final_Emission_Data.csv')\n",
    "df.head()"
   ]
  },
  {
   "cell_type": "code",
   "execution_count": 25,
   "id": "19c24c90",
   "metadata": {},
   "outputs": [
    {
     "name": "stdout",
     "output_type": "stream",
     "text": [
      "Enter vehicle class :compact\n",
      "Enter engine size :2\n",
      "Enter Number of cylinders :4\n",
      "Enter Transmission type :Automatic with select shift\n",
      "Enter Fuel type :Premium gasoline\n",
      "Enter the combined fuel consumption rating (55% city, 45% highway), in L/100 km :8.5\n",
      "The Co2 emmitted from your car is [[190.49585]] in grams per kilometer.\n"
     ]
    }
   ],
   "source": [
    "i1 = input(\"Enter vehicle class :\")\n",
    "i2 = float(input(\"Enter engine size :\"))\n",
    "i3 = float(input(\"Enter Number of cylinders :\"))\n",
    "i4 = input(\"Enter Transmission type :\")\n",
    "i5 = input(\"Enter Fuel type :\")\n",
    "i6 = float(input(\"Enter the combined fuel consumption rating (55% city, 45% highway), in L/100 km :\"))\n",
    "\n",
    "input_data = pd.DataFrame({'vehicle_class':i1,'engine_size':i2,'cylinders':i3,\n",
    "                           'transmission':i4,'fuel_type':i5,\n",
    "                           'fuel_consumption_comb(l/100km)':i6},index=[1])\n",
    "\n",
    "input_data['vehicle_class']  =input_data['vehicle_class'].map({'compact':0.0,'full-size':1.0,'mid-size':2.0,'minicompact':3.0,'minivan':4.0,\n",
    "                                                               'pickup truck - small':5.0,'pickup truck - standard':6.0,'special purpose vehicle':7.0,\n",
    "                                                               'station wagon - mid-size':8.0,'station wagon - small':9.0,'subcompact':10.0,\n",
    "                                                               'suv - small':11.0, 'suv - standard':12.0,'two-seater':13.0,'van - cargo':14.0,\n",
    "                                                               'van - passenger':15.0})\n",
    "input_data['transmission']  =input_data['transmission'].map({'Automatic':0.0,'Automated manual':1.0,'Automatic with select shift':2.0,'Continuously variable':3.0,'Manual':4.0})\n",
    "input_data['fuel_type']  =input_data['fuel_type'].map({'Diesel':0.0,'Ethanol (E85)':1.0,'Natural gas':2.0,'Premium gasoline':3.0,'Regular gasoline':4.0})\n",
    "\n",
    "pred =loaded_model.predict(input_data)\n",
    "print(\"The Co2 emmitted from your car is {} in grams per kilometer.\".format(pred))"
   ]
  }
 ],
 "metadata": {
  "kernelspec": {
   "display_name": "Python 3",
   "language": "python",
   "name": "python3"
  },
  "language_info": {
   "codemirror_mode": {
    "name": "ipython",
    "version": 3
   },
   "file_extension": ".py",
   "mimetype": "text/x-python",
   "name": "python",
   "nbconvert_exporter": "python",
   "pygments_lexer": "ipython3",
   "version": "3.8.8"
  }
 },
 "nbformat": 4,
 "nbformat_minor": 5
}
